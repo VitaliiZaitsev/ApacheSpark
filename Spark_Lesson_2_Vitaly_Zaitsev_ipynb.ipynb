{
  "nbformat": 4,
  "nbformat_minor": 0,
  "metadata": {
    "colab": {
      "name": "Spark. Lesson 2. Vitaly Zaitsev.ipynb.ipynb",
      "provenance": [],
      "collapsed_sections": [],
      "toc_visible": true,
      "authorship_tag": "ABX9TyO9ssUlZOwqy3FU3BFHEEvN",
      "include_colab_link": true
    },
    "kernelspec": {
      "name": "python3",
      "display_name": "Python 3"
    },
    "language_info": {
      "name": "python"
    }
  },
  "cells": [
    {
      "cell_type": "markdown",
      "metadata": {
        "id": "view-in-github",
        "colab_type": "text"
      },
      "source": [
        "<a href=\"https://colab.research.google.com/github/VitaliiZaitsev/ApacheSpark/blob/main/Spark_Lesson_2_Vitaly_Zaitsev_ipynb.ipynb\" target=\"_parent\"><img src=\"https://colab.research.google.com/assets/colab-badge.svg\" alt=\"Open In Colab\"/></a>"
      ]
    },
    {
      "cell_type": "markdown",
      "metadata": {
        "id": "QBggmJoznrq5"
      },
      "source": [
        "# 0. Подготовительная часть pip install pyspark"
      ]
    },
    {
      "cell_type": "code",
      "metadata": {
        "colab": {
          "base_uri": "https://localhost:8080/"
        },
        "id": "XV8jvBisnsZO",
        "outputId": "935152a7-678f-4b91-9962-53a83331cdbe"
      },
      "source": [
        "pip install pyspark"
      ],
      "execution_count": 2,
      "outputs": [
        {
          "output_type": "stream",
          "name": "stdout",
          "text": [
            "Collecting pyspark\n",
            "  Downloading pyspark-3.2.0.tar.gz (281.3 MB)\n",
            "\u001b[K     |████████████████████████████████| 281.3 MB 42 kB/s \n",
            "\u001b[?25hCollecting py4j==0.10.9.2\n",
            "  Downloading py4j-0.10.9.2-py2.py3-none-any.whl (198 kB)\n",
            "\u001b[K     |████████████████████████████████| 198 kB 52.7 MB/s \n",
            "\u001b[?25hBuilding wheels for collected packages: pyspark\n",
            "  Building wheel for pyspark (setup.py) ... \u001b[?25l\u001b[?25hdone\n",
            "  Created wheel for pyspark: filename=pyspark-3.2.0-py2.py3-none-any.whl size=281805912 sha256=5f9028de90235bf92b663945e066bf77ed3aea55af720bec2ce88303c6263a8b\n",
            "  Stored in directory: /root/.cache/pip/wheels/0b/de/d2/9be5d59d7331c6c2a7c1b6d1a4f463ce107332b1ecd4e80718\n",
            "Successfully built pyspark\n",
            "Installing collected packages: py4j, pyspark\n",
            "Successfully installed py4j-0.10.9.2 pyspark-3.2.0\n"
          ]
        }
      ]
    },
    {
      "cell_type": "markdown",
      "metadata": {
        "id": "Kfb67z9anIIq"
      },
      "source": [
        "\n",
        "# 1. Создание точки входа в Spark, проверка"
      ]
    },
    {
      "cell_type": "code",
      "metadata": {
        "id": "393hG92RnMoq"
      },
      "source": [
        "from pyspark.sql import SparkSession\n",
        "\n",
        "spark = SparkSession.builder\\\n",
        "        .master('local[4]')\\\n",
        "        .appName('Lesson_2')\\\n",
        "        .config('spark.ui.port', '4050')\\\n",
        "        .config('spark.executor.instances', 2)\\\n",
        "        .config('spark.executor.memory', '5g')\\\n",
        "        .config('spark.executor.cores', 2)\\\n",
        "        .getOrCreate()\n",
        "\n",
        "sc = spark.sparkContext"
      ],
      "execution_count": 3,
      "outputs": []
    },
    {
      "cell_type": "code",
      "metadata": {
        "colab": {
          "base_uri": "https://localhost:8080/",
          "height": 218
        },
        "id": "33jJBR4FoR3I",
        "outputId": "395ef22f-5df7-4292-cbce-9068b4480024"
      },
      "source": [
        "spark"
      ],
      "execution_count": 4,
      "outputs": [
        {
          "output_type": "execute_result",
          "data": {
            "text/html": [
              "\n",
              "            <div>\n",
              "                <p><b>SparkSession - in-memory</b></p>\n",
              "                \n",
              "        <div>\n",
              "            <p><b>SparkContext</b></p>\n",
              "\n",
              "            <p><a href=\"http://d8895f52dcd3:4050\">Spark UI</a></p>\n",
              "\n",
              "            <dl>\n",
              "              <dt>Version</dt>\n",
              "                <dd><code>v3.2.0</code></dd>\n",
              "              <dt>Master</dt>\n",
              "                <dd><code>local[4]</code></dd>\n",
              "              <dt>AppName</dt>\n",
              "                <dd><code>Lesson_2</code></dd>\n",
              "            </dl>\n",
              "        </div>\n",
              "        \n",
              "            </div>\n",
              "        "
            ],
            "text/plain": [
              "<pyspark.sql.session.SparkSession at 0x7f6709ba1f50>"
            ]
          },
          "metadata": {},
          "execution_count": 4
        }
      ]
    },
    {
      "cell_type": "markdown",
      "metadata": {
        "id": "_z9Pa3rFou7h"
      },
      "source": [
        "# Самостоятельная работа"
      ]
    },
    {
      "cell_type": "markdown",
      "metadata": {
        "id": "TyHOvD2Ig3tr"
      },
      "source": [
        "## RDD"
      ]
    },
    {
      "cell_type": "markdown",
      "metadata": {
        "id": "mGSEgiino9OL"
      },
      "source": [
        "### Задание\n",
        "Загрузить тестовые данные, выяснить:\n",
        "\n",
        "*   Самое поулярное соотношение сторон экрана телефона\n",
        "*   Плотность пикселей у экрана\n",
        "\n",
        "Можно использовать только rdd."
      ]
    },
    {
      "cell_type": "markdown",
      "metadata": {
        "id": "dITm0_2SpX6m"
      },
      "source": [
        "### Считывание данных\n",
        "Данные взяты отсюда: https://www.kaggle.com/iabhishekofficial/mobile-price-classification \n",
        "Скачиваем и копируем в папку с нотебуком\n",
        "\n",
        "Внутри содержится следующая информация:\n",
        "\n",
        "* id: ID\n",
        "* battery_power: Total energy a battery can store in one time (mAh)\n",
        "* blue: Support bluetooth or not\n",
        "* clock_speed: Speed at which microprocessor executes instructions\n",
        "* dual_sim: Support dual sim or not\n",
        "* fc: Front Camera mega pixels\n",
        "* four_g: Support 4G or not\n",
        "* int_memory: Internal Memory (GB)\n",
        "* m_dep: Mobile Depth (cm)\n",
        "* mobile_wt: Weight of mobile phone\n",
        "* n_cores: Number of cores of processor\n",
        "* pc: Primary Camera mega pixels\n",
        "* px_height: Pixel Resolution Height\n",
        "* px_width: Pixel Resolution Width\n",
        "* ram: Random Access Memory (MB)\n",
        "* sc_h: Screen Height of mobile (cm)\n",
        "* sc_w: Screen Width of mobile (cm)\n",
        "* talk_time: Time that a single battery charge will last\n",
        "* three_g: Support 3G or not\n",
        "* touch_screen: Has touch screen or not\n",
        "* wifi: Support wifi or not"
      ]
    },
    {
      "cell_type": "markdown",
      "metadata": {
        "id": "d62XuRaarN-C"
      },
      "source": [
        "![image.png](data:image/png;base64,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)"
      ]
    },
    {
      "cell_type": "code",
      "metadata": {
        "id": "UNvbPzTOqHxH"
      },
      "source": [
        "train = sc.textFile('/content/train.csv')"
      ],
      "execution_count": 125,
      "outputs": []
    },
    {
      "cell_type": "code",
      "metadata": {
        "id": "OqIClTJQ5jV2"
      },
      "source": [
        "test = sc.textFile('/content/test.csv')"
      ],
      "execution_count": 126,
      "outputs": []
    },
    {
      "cell_type": "code",
      "metadata": {
        "id": "dBXPjWq7rajK"
      },
      "source": [
        "# Выведите содержимое каждого файла (часть строк)\n",
        "###############"
      ],
      "execution_count": 15,
      "outputs": []
    },
    {
      "cell_type": "code",
      "metadata": {
        "colab": {
          "base_uri": "https://localhost:8080/"
        },
        "id": "2rpCHpiEtnOf",
        "outputId": "e4fae547-6ffa-4a42-8c6e-3ec4e0dceac8"
      },
      "source": [
        "train.take(3)"
      ],
      "execution_count": 127,
      "outputs": [
        {
          "output_type": "execute_result",
          "data": {
            "text/plain": [
              "['battery_power,blue,clock_speed,dual_sim,fc,four_g,int_memory,m_dep,mobile_wt,n_cores,pc,px_height,px_width,ram,sc_h,sc_w,talk_time,three_g,touch_screen,wifi,price_range',\n",
              " '842,0,2.2,0,1,0,7,0.6,188,2,2,20,756,2549,9,7,19,0,0,1,1',\n",
              " '1021,1,0.5,1,0,1,53,0.7,136,3,6,905,1988,2631,17,3,7,1,1,0,2']"
            ]
          },
          "metadata": {},
          "execution_count": 127
        }
      ]
    },
    {
      "cell_type": "code",
      "metadata": {
        "colab": {
          "base_uri": "https://localhost:8080/"
        },
        "id": "O1Si3XDit0R8",
        "outputId": "33f4974e-3186-49f6-8e7f-fe4aa651f6f8"
      },
      "source": [
        "test.take(3)"
      ],
      "execution_count": 128,
      "outputs": [
        {
          "output_type": "execute_result",
          "data": {
            "text/plain": [
              "['id,battery_power,blue,clock_speed,dual_sim,fc,four_g,int_memory,m_dep,mobile_wt,n_cores,pc,px_height,px_width,ram,sc_h,sc_w,talk_time,three_g,touch_screen,wifi',\n",
              " '1,1043,1,1.8,1,14,0,5,0.1,193,3,16,226,1412,3476,12,7,2,0,1,0',\n",
              " '2,841,1,0.5,1,4,1,61,0.8,191,5,12,746,857,3895,6,0,7,1,0,0']"
            ]
          },
          "metadata": {},
          "execution_count": 128
        }
      ]
    },
    {
      "cell_type": "markdown",
      "metadata": {
        "id": "2NwwcUoQuX2Y"
      },
      "source": [
        "### Преобразование train и test (в float значения)"
      ]
    },
    {
      "cell_type": "markdown",
      "metadata": {
        "id": "_FAHXsb90njx"
      },
      "source": [
        "Используем функцию map 'https://spark.apache.org/docs/3.2.0/api/python/reference/pyspark.html#rdd-apis'\n",
        "\n",
        "`RDD.map(f[, preservesPartitioning])`\n",
        "\n",
        "Return a new RDD by applying a function to each element of this RDD\n",
        "\n"
      ]
    },
    {
      "cell_type": "code",
      "metadata": {
        "id": "NwHgSheTRWcE"
      },
      "source": [
        "# На атрибутах наборов данных далее завязана логика, поэтому запомним их\n",
        "train_first_row = train.first()\n",
        "test_first_row = test.first()"
      ],
      "execution_count": 129,
      "outputs": []
    },
    {
      "cell_type": "code",
      "metadata": {
        "id": "cS5DYYUbuoi9"
      },
      "source": [
        "train = train\\\n",
        "    .filter(lambda row: row != train_first_row)\\\n",
        "    .map(lambda row: [float(el) for el in row.split(',')])"
      ],
      "execution_count": 130,
      "outputs": []
    },
    {
      "cell_type": "code",
      "metadata": {
        "id": "__MeuNEDzDsn"
      },
      "source": [
        "test = test\\\n",
        "    .filter(lambda row: row != test_first_row)\\\n",
        "    .map(lambda row: [float(el) for el in row.split(',')])"
      ],
      "execution_count": 131,
      "outputs": []
    },
    {
      "cell_type": "markdown",
      "metadata": {
        "id": "keWmqwknzan5"
      },
      "source": [
        "### Объединение train и test"
      ]
    },
    {
      "cell_type": "markdown",
      "metadata": {
        "id": "qmr-RkqJzfhl"
      },
      "source": [
        "У нас версия 3.2.0, поэтому используем соответствующее описание RDD API 'https://spark.apache.org/docs/3.2.0/api/python/reference/pyspark.html#rdd-apis'\n",
        "\n",
        "PS: Подсказка: использовать rdd pd.concat([train, test,], axis=0)"
      ]
    },
    {
      "cell_type": "code",
      "metadata": {
        "colab": {
          "base_uri": "https://localhost:8080/",
          "height": 53
        },
        "id": "qVdqxyRM1l5R",
        "outputId": "3cc62f43-e425-42b3-95f3-75c9d820f6b3"
      },
      "source": [
        "# Посмотрим - какие у нас есть атрибуты в тестовых наборах \n",
        "train_first_row"
      ],
      "execution_count": 118,
      "outputs": [
        {
          "output_type": "execute_result",
          "data": {
            "application/vnd.google.colaboratory.intrinsic+json": {
              "type": "string"
            },
            "text/plain": [
              "'battery_power,blue,clock_speed,dual_sim,fc,four_g,int_memory,m_dep,mobile_wt,n_cores,pc,px_height,px_width,ram,sc_h,sc_w,talk_time,three_g,touch_screen,wifi,price_range'"
            ]
          },
          "metadata": {},
          "execution_count": 118
        }
      ]
    },
    {
      "cell_type": "code",
      "metadata": {
        "colab": {
          "base_uri": "https://localhost:8080/",
          "height": 53
        },
        "id": "sZJbEwuP1_q8",
        "outputId": "7f72bec9-d88f-4946-fc39-ac9a4ea16f8e"
      },
      "source": [
        "test_first_row"
      ],
      "execution_count": 119,
      "outputs": [
        {
          "output_type": "execute_result",
          "data": {
            "application/vnd.google.colaboratory.intrinsic+json": {
              "type": "string"
            },
            "text/plain": [
              "'id,battery_power,blue,clock_speed,dual_sim,fc,four_g,int_memory,m_dep,mobile_wt,n_cores,pc,px_height,px_width,ram,sc_h,sc_w,talk_time,three_g,touch_screen,wifi'"
            ]
          },
          "metadata": {},
          "execution_count": 119
        }
      ]
    },
    {
      "cell_type": "code",
      "metadata": {
        "id": "D2-UWMxg-IAa"
      },
      "source": [
        "# Вывод:\n",
        "# В train ОТСУТСТВУЕТ id\n",
        "# В test ОТСУТСТВУЕТ price_range\n",
        "# \n",
        "# Для последующего объединения (UNION) требуется либо добавить недостающие атрибуты (пусть со значением NULL), либо убрать различающиеся\n",
        "# Оба два варианта хуже:\n",
        "# в случае добавления недостающих атрибутов они будут заполнены Null \n",
        "#    (в общем случае у нас будут очень сильно неполные данные, на основании которых мы будем делать прогнозы)\n",
        "# в случае отсечения атрибутов мы их \"потеряем\" (при этом у нас останется только рабочая выжимка данных, без пропусков и Null) \n",
        "#\n",
        "# Предлагаю идти от задачи - требуется рассчитать \"самое популярное соотношение сторон экрана телефона\" и \"плотность пикселей у экрана\"\n",
        "# Для этих задач id и price_range НЕ нужны -> удаляем эти недостающие в наборах атрибуты и объединяем два исходных набора в один объединённый "
      ],
      "execution_count": 121,
      "outputs": []
    },
    {
      "cell_type": "code",
      "metadata": {
        "colab": {
          "base_uri": "https://localhost:8080/"
        },
        "id": "hhoOAwhKR5Mm",
        "outputId": "b088b3d3-ed88-40e2-b794-5148f639e5d6"
      },
      "source": [
        "# Перед началом запомним исходное количество записей в наборах\n",
        "train.count()"
      ],
      "execution_count": 135,
      "outputs": [
        {
          "output_type": "execute_result",
          "data": {
            "text/plain": [
              "2000"
            ]
          },
          "metadata": {},
          "execution_count": 135
        }
      ]
    },
    {
      "cell_type": "code",
      "metadata": {
        "colab": {
          "base_uri": "https://localhost:8080/"
        },
        "id": "Qn2zxCzcSSlT",
        "outputId": "c49845b2-4f47-492a-f579-5c709ddc6953"
      },
      "source": [
        "test.count()"
      ],
      "execution_count": 136,
      "outputs": [
        {
          "output_type": "execute_result",
          "data": {
            "text/plain": [
              "1000"
            ]
          },
          "metadata": {},
          "execution_count": 136
        }
      ]
    },
    {
      "cell_type": "code",
      "metadata": {
        "id": "hXz582zPR5z3"
      },
      "source": [
        "# Находим одинаковые колонки в обоих наборах данных (объединяем множества названий атрибутов из двух наборов)\n",
        "identical_columns = set(train_first_row.split(',')) & set(test_first_row.split(','))\n",
        "\n",
        "# Вычисляем номера столбцов, которые различаются\n",
        "train_excess_cols = [x[0] for x in enumerate(train_first_row.split(',')) if x[1] not in identical_columns] \n",
        "test_excess_cols = [x[0] for x in enumerate(test_first_row.split(',')) if x[1] not in identical_columns]\n",
        "\n",
        "# Формируем новый заголовок будущего объединённого набора данных, сохраняя первоначальный порядок следования столбцов\n",
        "united_header = [el for el in train_first_row.split(',') if el in identical_columns]\n",
        "united_header = ','.join(united_header)\n",
        "\n",
        "# Формируем сам набор\n",
        "united_data = train.map(lambda row: [x[1] for x in enumerate(row) if x[0] not in train_excess_cols]) \\\n",
        "       .union(test.map(lambda row: [x[1] for x in enumerate(row) if x[0] not in test_excess_cols]))"
      ],
      "execution_count": null,
      "outputs": []
    },
    {
      "cell_type": "code",
      "metadata": {
        "colab": {
          "base_uri": "https://localhost:8080/",
          "height": 53
        },
        "id": "-7SLdtZCQxVz",
        "outputId": "91e347d0-aa51-4b28-efbe-9e8d2b872604"
      },
      "source": [
        "# Проверяем результат\n",
        "united_header"
      ],
      "execution_count": 137,
      "outputs": [
        {
          "output_type": "execute_result",
          "data": {
            "application/vnd.google.colaboratory.intrinsic+json": {
              "type": "string"
            },
            "text/plain": [
              "'battery_power,blue,clock_speed,dual_sim,fc,four_g,int_memory,m_dep,mobile_wt,n_cores,pc,px_height,px_width,ram,sc_h,sc_w,talk_time,three_g,touch_screen,wifi'"
            ]
          },
          "metadata": {},
          "execution_count": 137
        }
      ]
    },
    {
      "cell_type": "code",
      "metadata": {
        "colab": {
          "base_uri": "https://localhost:8080/"
        },
        "id": "229wL1lRRHPh",
        "outputId": "9e33081d-6e1b-4c2a-8d9e-7ae0fb1da203"
      },
      "source": [
        "united_data.count()"
      ],
      "execution_count": 140,
      "outputs": [
        {
          "output_type": "execute_result",
          "data": {
            "text/plain": [
              "3000"
            ]
          },
          "metadata": {},
          "execution_count": 140
        }
      ]
    },
    {
      "cell_type": "code",
      "metadata": {
        "colab": {
          "base_uri": "https://localhost:8080/"
        },
        "id": "5dX6ZC4_QxYy",
        "outputId": "6cf20390-43b1-4008-895f-1be52dda291d"
      },
      "source": [
        "united_data.take(3)"
      ],
      "execution_count": 139,
      "outputs": [
        {
          "output_type": "execute_result",
          "data": {
            "text/plain": [
              "[[842.0,\n",
              "  0.0,\n",
              "  2.2,\n",
              "  0.0,\n",
              "  1.0,\n",
              "  0.0,\n",
              "  7.0,\n",
              "  0.6,\n",
              "  188.0,\n",
              "  2.0,\n",
              "  2.0,\n",
              "  20.0,\n",
              "  756.0,\n",
              "  2549.0,\n",
              "  9.0,\n",
              "  7.0,\n",
              "  19.0,\n",
              "  0.0,\n",
              "  0.0,\n",
              "  1.0],\n",
              " [1021.0,\n",
              "  1.0,\n",
              "  0.5,\n",
              "  1.0,\n",
              "  0.0,\n",
              "  1.0,\n",
              "  53.0,\n",
              "  0.7,\n",
              "  136.0,\n",
              "  3.0,\n",
              "  6.0,\n",
              "  905.0,\n",
              "  1988.0,\n",
              "  2631.0,\n",
              "  17.0,\n",
              "  3.0,\n",
              "  7.0,\n",
              "  1.0,\n",
              "  1.0,\n",
              "  0.0],\n",
              " [563.0,\n",
              "  1.0,\n",
              "  0.5,\n",
              "  1.0,\n",
              "  2.0,\n",
              "  1.0,\n",
              "  41.0,\n",
              "  0.9,\n",
              "  145.0,\n",
              "  5.0,\n",
              "  6.0,\n",
              "  1263.0,\n",
              "  1716.0,\n",
              "  2603.0,\n",
              "  11.0,\n",
              "  2.0,\n",
              "  9.0,\n",
              "  1.0,\n",
              "  1.0,\n",
              "  0.0]]"
            ]
          },
          "metadata": {},
          "execution_count": 139
        }
      ]
    },
    {
      "cell_type": "markdown",
      "metadata": {
        "id": "kuP80ge7T-7b"
      },
      "source": [
        "### Расчёт соотношения сторон телефона и экрана"
      ]
    },
    {
      "cell_type": "code",
      "metadata": {
        "id": "nbVs1Bi8OqGb"
      },
      "source": [
        "# Выведите отсортированное распределение соотношений сторон экрана\n",
        "# в разрезе широкоформатные или нет (экран широкоформатный, если соотногшение >=16:9)"
      ],
      "execution_count": 141,
      "outputs": []
    },
    {
      "cell_type": "code",
      "metadata": {
        "id": "ee1FhrGFOqJ6"
      },
      "source": [
        "# Запоминаем номера столбцов с шириной и высотой экрана\n",
        "sc_w = [x[0] for x in enumerate(united_header.split(',')) if x[1] == 'sc_w'][0]\n",
        "sc_h = [x[0] for x in enumerate(united_header.split(',')) if x[1] == 'sc_h'][0]"
      ],
      "execution_count": 143,
      "outputs": []
    },
    {
      "cell_type": "code",
      "metadata": {
        "id": "P82b_d3WVc0p"
      },
      "source": [
        "# Чистка данных, отбрасываем \"мусорные\" значения ширины и высоты\n",
        "united_data = united_data.filter(lambda row: row[sc_w] > 0)"
      ],
      "execution_count": 144,
      "outputs": []
    },
    {
      "cell_type": "code",
      "metadata": {
        "colab": {
          "base_uri": "https://localhost:8080/"
        },
        "id": "e3kC02qjWE4E",
        "outputId": "c92d803b-81d9-4b50-b235-71a35b78ccdb"
      },
      "source": [
        "united_data.count()"
      ],
      "execution_count": 145,
      "outputs": [
        {
          "output_type": "execute_result",
          "data": {
            "text/plain": [
              "2708"
            ]
          },
          "metadata": {},
          "execution_count": 145
        }
      ]
    },
    {
      "cell_type": "code",
      "metadata": {
        "id": "huN2sJ-kV9iM"
      },
      "source": [
        "united_data = united_data.filter(lambda row: row[sc_h] > 0)"
      ],
      "execution_count": 146,
      "outputs": []
    },
    {
      "cell_type": "code",
      "metadata": {
        "colab": {
          "base_uri": "https://localhost:8080/"
        },
        "id": "MmsphR2eV9vH",
        "outputId": "a603a62a-a38d-4d80-dba3-4ed5a6a8e65c"
      },
      "source": [
        "united_data.count()"
      ],
      "execution_count": 147,
      "outputs": [
        {
          "output_type": "execute_result",
          "data": {
            "text/plain": [
              "2708"
            ]
          },
          "metadata": {},
          "execution_count": 147
        }
      ]
    },
    {
      "cell_type": "code",
      "metadata": {
        "id": "7bZZjXr7OqNi"
      },
      "source": [
        "# Производим расчёт соотношения, высота / ширина (по всем моделям, включая широкоформатные), с сортировкой\n",
        "screen_aspect_ratio = united_data.map(lambda row: (round(row[sc_h] / row[sc_w], 2), 1)).sortByKey().countByKey()"
      ],
      "execution_count": 149,
      "outputs": []
    },
    {
      "cell_type": "code",
      "metadata": {
        "colab": {
          "base_uri": "https://localhost:8080/"
        },
        "id": "FL4pm02kOqQW",
        "outputId": "33f43cd3-1add-4c85-dd1f-40d97bba6a30"
      },
      "source": [
        "screen_aspect_ratio"
      ],
      "execution_count": 150,
      "outputs": [
        {
          "output_type": "execute_result",
          "data": {
            "text/plain": [
              "defaultdict(int,\n",
              "            {1.06: 46,\n",
              "             1.07: 17,\n",
              "             1.08: 28,\n",
              "             1.09: 16,\n",
              "             1.1: 26,\n",
              "             1.11: 14,\n",
              "             1.12: 35,\n",
              "             1.13: 15,\n",
              "             1.14: 37,\n",
              "             1.15: 16,\n",
              "             1.17: 47,\n",
              "             1.18: 14,\n",
              "             1.19: 8,\n",
              "             1.2: 69,\n",
              "             1.21: 17,\n",
              "             1.22: 25,\n",
              "             1.23: 13,\n",
              "             1.25: 56,\n",
              "             1.27: 27,\n",
              "             1.29: 26,\n",
              "             1.3: 20,\n",
              "             1.31: 13,\n",
              "             1.33: 54,\n",
              "             1.36: 22,\n",
              "             1.38: 29,\n",
              "             1.4: 59,\n",
              "             1.42: 12,\n",
              "             1.43: 17,\n",
              "             1.44: 12,\n",
              "             1.45: 18,\n",
              "             1.46: 10,\n",
              "             1.5: 89,\n",
              "             1.55: 14,\n",
              "             1.56: 19,\n",
              "             1.57: 15,\n",
              "             1.58: 10,\n",
              "             1.6: 32,\n",
              "             1.62: 8,\n",
              "             1.64: 12,\n",
              "             1.67: 68,\n",
              "             1.7: 16,\n",
              "             1.71: 26,\n",
              "             1.73: 8,\n",
              "             1.75: 48,\n",
              "             1.78: 8,\n",
              "             1.8: 33,\n",
              "             1.83: 13,\n",
              "             1.86: 17,\n",
              "             1.88: 15,\n",
              "             1.89: 13,\n",
              "             1.9: 15,\n",
              "             2.0: 123,\n",
              "             2.11: 9,\n",
              "             2.12: 17,\n",
              "             2.14: 13,\n",
              "             2.17: 20,\n",
              "             2.2: 21,\n",
              "             2.25: 34,\n",
              "             2.29: 12,\n",
              "             2.33: 46,\n",
              "             2.38: 11,\n",
              "             2.4: 13,\n",
              "             2.43: 20,\n",
              "             2.5: 66,\n",
              "             2.57: 16,\n",
              "             2.6: 17,\n",
              "             2.67: 29,\n",
              "             2.71: 7,\n",
              "             2.75: 12,\n",
              "             2.8: 12,\n",
              "             2.83: 18,\n",
              "             3.0: 100,\n",
              "             3.17: 9,\n",
              "             3.2: 15,\n",
              "             3.25: 16,\n",
              "             3.33: 14,\n",
              "             3.4: 10,\n",
              "             3.5: 35,\n",
              "             3.6: 10,\n",
              "             3.67: 14,\n",
              "             3.75: 11,\n",
              "             3.8: 4,\n",
              "             4.0: 50,\n",
              "             4.25: 18,\n",
              "             4.33: 17,\n",
              "             4.5: 37,\n",
              "             4.67: 14,\n",
              "             4.75: 8,\n",
              "             5.0: 68,\n",
              "             5.33: 13,\n",
              "             5.5: 19,\n",
              "             5.67: 14,\n",
              "             6.0: 70,\n",
              "             6.33: 15,\n",
              "             6.5: 12,\n",
              "             7.0: 43,\n",
              "             7.5: 14,\n",
              "             8.0: 34,\n",
              "             8.5: 15,\n",
              "             9.0: 31,\n",
              "             9.5: 9,\n",
              "             10.0: 26,\n",
              "             11.0: 19,\n",
              "             12.0: 16,\n",
              "             13.0: 14,\n",
              "             14.0: 19,\n",
              "             15.0: 11,\n",
              "             16.0: 14,\n",
              "             17.0: 18,\n",
              "             18.0: 9,\n",
              "             19.0: 10})"
            ]
          },
          "metadata": {},
          "execution_count": 150
        }
      ]
    },
    {
      "cell_type": "code",
      "metadata": {
        "id": "SNe3bJDoOqTA"
      },
      "source": [
        "# И отдельно выведем инфу по широкоформатным моделям\n",
        "# Делаем второй словарь, только широкоформатные модели (ключ >= 1.78)\n",
        "widescreenonly = {x[0]: x[1] for x in screen_aspect_ratio.items() if x[0] >= 1.78}\n",
        "# Пусть отсортируем по самым распространённыйм, по убыванию\n",
        "widescreenonly = sorted(widescreenonly.items(), key=lambda item: item[1], reverse=True)"
      ],
      "execution_count": 160,
      "outputs": []
    },
    {
      "cell_type": "code",
      "metadata": {
        "colab": {
          "base_uri": "https://localhost:8080/"
        },
        "id": "L4w_faCpWK6k",
        "outputId": "b237162a-902c-4218-fecb-c4714eb3ac07"
      },
      "source": [
        "widescreenonly"
      ],
      "execution_count": 161,
      "outputs": [
        {
          "output_type": "execute_result",
          "data": {
            "text/plain": [
              "[(2.0, 123),\n",
              " (3.0, 100),\n",
              " (6.0, 70),\n",
              " (5.0, 68),\n",
              " (2.5, 66),\n",
              " (4.0, 50),\n",
              " (2.33, 46),\n",
              " (7.0, 43),\n",
              " (4.5, 37),\n",
              " (3.5, 35),\n",
              " (2.25, 34),\n",
              " (8.0, 34),\n",
              " (1.8, 33),\n",
              " (9.0, 31),\n",
              " (2.67, 29),\n",
              " (10.0, 26),\n",
              " (2.2, 21),\n",
              " (2.17, 20),\n",
              " (2.43, 20),\n",
              " (5.5, 19),\n",
              " (11.0, 19),\n",
              " (14.0, 19),\n",
              " (2.83, 18),\n",
              " (4.25, 18),\n",
              " (17.0, 18),\n",
              " (1.86, 17),\n",
              " (2.12, 17),\n",
              " (2.6, 17),\n",
              " (4.33, 17),\n",
              " (2.57, 16),\n",
              " (3.25, 16),\n",
              " (12.0, 16),\n",
              " (1.88, 15),\n",
              " (1.9, 15),\n",
              " (3.2, 15),\n",
              " (6.33, 15),\n",
              " (8.5, 15),\n",
              " (3.33, 14),\n",
              " (3.67, 14),\n",
              " (4.67, 14),\n",
              " (5.67, 14),\n",
              " (7.5, 14),\n",
              " (13.0, 14),\n",
              " (16.0, 14),\n",
              " (1.83, 13),\n",
              " (1.89, 13),\n",
              " (2.14, 13),\n",
              " (2.4, 13),\n",
              " (5.33, 13),\n",
              " (2.29, 12),\n",
              " (2.75, 12),\n",
              " (2.8, 12),\n",
              " (6.5, 12),\n",
              " (2.38, 11),\n",
              " (3.75, 11),\n",
              " (15.0, 11),\n",
              " (3.4, 10),\n",
              " (3.6, 10),\n",
              " (19.0, 10),\n",
              " (2.11, 9),\n",
              " (3.17, 9),\n",
              " (9.5, 9),\n",
              " (18.0, 9),\n",
              " (1.78, 8),\n",
              " (4.75, 8),\n",
              " (2.71, 7),\n",
              " (3.8, 4)]"
            ]
          },
          "metadata": {},
          "execution_count": 161
        }
      ]
    },
    {
      "cell_type": "markdown",
      "metadata": {
        "id": "8XSI1UN-YlOk"
      },
      "source": [
        "### Расчёт распределения плотности пикселей (точек на дюйм (ppi))"
      ]
    },
    {
      "cell_type": "code",
      "metadata": {
        "id": "HYxrf6l7WK9v"
      },
      "source": [
        "# Опять готовим данные\n",
        "# повторяем упражнение, определяем номера столбцов с шириной и высотой экрана\n",
        "sc_w = [x[0] for x in enumerate(united_header.split(',')) if x[1] == 'sc_w'][0]\n",
        "sc_h = [x[0] for x in enumerate(united_header.split(',')) if x[1] == 'sc_h'][0]\n",
        "\n",
        "# Определяем номера столбцов с пикселями\n",
        "px_width = [x[0] for x in enumerate(united_header.split(',')) if x[1] == 'px_width'][0]\n",
        "px_height = [x[0] for x in enumerate(united_header.split(',')) if x[1] == 'px_height'][0]"
      ],
      "execution_count": 162,
      "outputs": []
    },
    {
      "cell_type": "code",
      "metadata": {
        "id": "-E66U5vFZIjB"
      },
      "source": [
        "# Оставляем только положительные значения"
      ],
      "execution_count": null,
      "outputs": []
    },
    {
      "cell_type": "code",
      "metadata": {
        "id": "uK0Y57XxZPqY"
      },
      "source": [
        "# Удаляем строки с нулевыми данными\n",
        "united_data = united_data.filter(lambda row: row[sc_w] > 0)\n",
        "united_data = united_data.filter(lambda row: row[sc_h] > 0)"
      ],
      "execution_count": 163,
      "outputs": []
    },
    {
      "cell_type": "code",
      "metadata": {
        "id": "VujOb-7ZZNNG"
      },
      "source": [
        "united_data = united_data.filter(lambda row: row[px_width] > 0)\n",
        "united_data = united_data.filter(lambda row: row[px_height] > 0)"
      ],
      "execution_count": 164,
      "outputs": []
    },
    {
      "cell_type": "code",
      "metadata": {
        "colab": {
          "base_uri": "https://localhost:8080/"
        },
        "id": "Q81MHsgdZNQV",
        "outputId": "7b493572-87ae-4604-9077-fc4c13033d37"
      },
      "source": [
        "# Посмотрим - сколько осталось строк в итоговом датасете\n",
        "united_data.count()"
      ],
      "execution_count": 165,
      "outputs": [
        {
          "output_type": "execute_result",
          "data": {
            "text/plain": [
              "2705"
            ]
          },
          "metadata": {},
          "execution_count": 165
        }
      ]
    },
    {
      "cell_type": "code",
      "metadata": {
        "id": "GZojtvhlZJRl"
      },
      "source": [
        "# Рассчитываем магию PPI\n",
        "PPI = united_data.map(lambda row: \\\n",
        "                          (\\\n",
        "                            round( \\\n",
        "                              ((row[px_width] ** 2 + row[px_height] ** 2) ** 0.5) / \\\n",
        "                              (((row[sc_w] ** 2 + row[sc_h] ** 2) ** 0.5) * 0.3937) \\\n",
        "                                    , 0) \\\n",
        "                           , 1) \\\n",
        "              ).sortByKey().countByKey()"
      ],
      "execution_count": 167,
      "outputs": []
    },
    {
      "cell_type": "code",
      "metadata": {
        "colab": {
          "base_uri": "https://localhost:8080/"
        },
        "id": "vfU8ihCSWLBA",
        "outputId": "9856ba18-61fa-4db3-f962-08a69b211fc8"
      },
      "source": [
        "# Выводим PPI\n",
        "PPI"
      ],
      "execution_count": 168,
      "outputs": [
        {
          "output_type": "execute_result",
          "data": {
            "text/plain": [
              "defaultdict(int,\n",
              "            {56.0: 1,\n",
              "             61.0: 3,\n",
              "             63.0: 1,\n",
              "             64.0: 1,\n",
              "             65.0: 1,\n",
              "             67.0: 2,\n",
              "             68.0: 1,\n",
              "             69.0: 1,\n",
              "             70.0: 1,\n",
              "             71.0: 1,\n",
              "             72.0: 2,\n",
              "             73.0: 2,\n",
              "             74.0: 2,\n",
              "             76.0: 2,\n",
              "             77.0: 1,\n",
              "             78.0: 2,\n",
              "             79.0: 6,\n",
              "             80.0: 5,\n",
              "             81.0: 3,\n",
              "             82.0: 6,\n",
              "             83.0: 8,\n",
              "             84.0: 6,\n",
              "             85.0: 4,\n",
              "             86.0: 3,\n",
              "             87.0: 8,\n",
              "             88.0: 5,\n",
              "             89.0: 5,\n",
              "             90.0: 4,\n",
              "             91.0: 3,\n",
              "             92.0: 5,\n",
              "             93.0: 6,\n",
              "             94.0: 3,\n",
              "             95.0: 4,\n",
              "             96.0: 7,\n",
              "             97.0: 5,\n",
              "             98.0: 2,\n",
              "             99.0: 5,\n",
              "             100.0: 5,\n",
              "             101.0: 4,\n",
              "             102.0: 7,\n",
              "             103.0: 6,\n",
              "             104.0: 3,\n",
              "             105.0: 6,\n",
              "             106.0: 3,\n",
              "             107.0: 5,\n",
              "             108.0: 2,\n",
              "             109.0: 6,\n",
              "             110.0: 8,\n",
              "             111.0: 5,\n",
              "             112.0: 8,\n",
              "             113.0: 3,\n",
              "             114.0: 7,\n",
              "             115.0: 5,\n",
              "             116.0: 6,\n",
              "             117.0: 8,\n",
              "             118.0: 8,\n",
              "             119.0: 6,\n",
              "             120.0: 7,\n",
              "             121.0: 11,\n",
              "             122.0: 13,\n",
              "             123.0: 6,\n",
              "             124.0: 7,\n",
              "             125.0: 7,\n",
              "             126.0: 6,\n",
              "             127.0: 8,\n",
              "             128.0: 12,\n",
              "             129.0: 5,\n",
              "             130.0: 2,\n",
              "             131.0: 4,\n",
              "             132.0: 10,\n",
              "             133.0: 8,\n",
              "             134.0: 4,\n",
              "             135.0: 7,\n",
              "             136.0: 8,\n",
              "             137.0: 12,\n",
              "             138.0: 13,\n",
              "             139.0: 10,\n",
              "             140.0: 8,\n",
              "             141.0: 3,\n",
              "             142.0: 5,\n",
              "             143.0: 8,\n",
              "             144.0: 10,\n",
              "             145.0: 8,\n",
              "             146.0: 3,\n",
              "             147.0: 7,\n",
              "             148.0: 5,\n",
              "             149.0: 5,\n",
              "             150.0: 10,\n",
              "             151.0: 10,\n",
              "             152.0: 5,\n",
              "             153.0: 9,\n",
              "             154.0: 9,\n",
              "             155.0: 7,\n",
              "             156.0: 7,\n",
              "             157.0: 9,\n",
              "             158.0: 9,\n",
              "             159.0: 5,\n",
              "             160.0: 3,\n",
              "             161.0: 6,\n",
              "             162.0: 10,\n",
              "             163.0: 5,\n",
              "             164.0: 5,\n",
              "             165.0: 9,\n",
              "             166.0: 11,\n",
              "             167.0: 7,\n",
              "             168.0: 9,\n",
              "             169.0: 11,\n",
              "             170.0: 5,\n",
              "             171.0: 11,\n",
              "             172.0: 10,\n",
              "             173.0: 7,\n",
              "             174.0: 10,\n",
              "             175.0: 9,\n",
              "             176.0: 13,\n",
              "             177.0: 2,\n",
              "             178.0: 5,\n",
              "             179.0: 7,\n",
              "             180.0: 12,\n",
              "             181.0: 11,\n",
              "             182.0: 11,\n",
              "             183.0: 10,\n",
              "             184.0: 8,\n",
              "             185.0: 11,\n",
              "             186.0: 7,\n",
              "             187.0: 6,\n",
              "             188.0: 12,\n",
              "             189.0: 7,\n",
              "             190.0: 9,\n",
              "             191.0: 7,\n",
              "             192.0: 7,\n",
              "             193.0: 9,\n",
              "             194.0: 5,\n",
              "             195.0: 7,\n",
              "             196.0: 9,\n",
              "             197.0: 14,\n",
              "             198.0: 11,\n",
              "             199.0: 13,\n",
              "             200.0: 10,\n",
              "             201.0: 10,\n",
              "             202.0: 9,\n",
              "             203.0: 8,\n",
              "             204.0: 9,\n",
              "             205.0: 11,\n",
              "             206.0: 12,\n",
              "             207.0: 6,\n",
              "             208.0: 10,\n",
              "             209.0: 17,\n",
              "             210.0: 11,\n",
              "             211.0: 3,\n",
              "             212.0: 8,\n",
              "             213.0: 6,\n",
              "             214.0: 11,\n",
              "             215.0: 10,\n",
              "             216.0: 3,\n",
              "             217.0: 4,\n",
              "             218.0: 6,\n",
              "             219.0: 8,\n",
              "             220.0: 10,\n",
              "             221.0: 12,\n",
              "             222.0: 6,\n",
              "             223.0: 5,\n",
              "             224.0: 9,\n",
              "             225.0: 15,\n",
              "             226.0: 9,\n",
              "             227.0: 10,\n",
              "             228.0: 9,\n",
              "             229.0: 9,\n",
              "             230.0: 10,\n",
              "             231.0: 8,\n",
              "             232.0: 6,\n",
              "             233.0: 7,\n",
              "             234.0: 3,\n",
              "             235.0: 9,\n",
              "             236.0: 10,\n",
              "             237.0: 6,\n",
              "             238.0: 9,\n",
              "             239.0: 6,\n",
              "             240.0: 6,\n",
              "             241.0: 6,\n",
              "             242.0: 12,\n",
              "             243.0: 3,\n",
              "             244.0: 8,\n",
              "             245.0: 9,\n",
              "             246.0: 12,\n",
              "             247.0: 5,\n",
              "             248.0: 6,\n",
              "             249.0: 11,\n",
              "             250.0: 10,\n",
              "             251.0: 5,\n",
              "             252.0: 4,\n",
              "             253.0: 8,\n",
              "             254.0: 3,\n",
              "             255.0: 10,\n",
              "             256.0: 7,\n",
              "             257.0: 2,\n",
              "             258.0: 15,\n",
              "             259.0: 8,\n",
              "             260.0: 5,\n",
              "             261.0: 7,\n",
              "             262.0: 10,\n",
              "             263.0: 7,\n",
              "             264.0: 5,\n",
              "             265.0: 12,\n",
              "             266.0: 6,\n",
              "             267.0: 6,\n",
              "             268.0: 6,\n",
              "             269.0: 7,\n",
              "             270.0: 6,\n",
              "             271.0: 5,\n",
              "             272.0: 8,\n",
              "             273.0: 9,\n",
              "             274.0: 6,\n",
              "             275.0: 5,\n",
              "             276.0: 7,\n",
              "             277.0: 8,\n",
              "             278.0: 6,\n",
              "             279.0: 6,\n",
              "             280.0: 4,\n",
              "             281.0: 6,\n",
              "             282.0: 9,\n",
              "             283.0: 8,\n",
              "             284.0: 4,\n",
              "             285.0: 11,\n",
              "             287.0: 7,\n",
              "             288.0: 6,\n",
              "             289.0: 8,\n",
              "             290.0: 5,\n",
              "             291.0: 6,\n",
              "             292.0: 16,\n",
              "             293.0: 3,\n",
              "             294.0: 6,\n",
              "             295.0: 4,\n",
              "             296.0: 9,\n",
              "             297.0: 7,\n",
              "             298.0: 5,\n",
              "             299.0: 6,\n",
              "             300.0: 5,\n",
              "             301.0: 8,\n",
              "             302.0: 2,\n",
              "             303.0: 6,\n",
              "             304.0: 8,\n",
              "             305.0: 10,\n",
              "             306.0: 3,\n",
              "             307.0: 3,\n",
              "             308.0: 7,\n",
              "             309.0: 5,\n",
              "             310.0: 8,\n",
              "             311.0: 7,\n",
              "             312.0: 6,\n",
              "             313.0: 4,\n",
              "             314.0: 5,\n",
              "             315.0: 8,\n",
              "             316.0: 3,\n",
              "             317.0: 11,\n",
              "             318.0: 4,\n",
              "             319.0: 5,\n",
              "             320.0: 3,\n",
              "             321.0: 6,\n",
              "             322.0: 8,\n",
              "             323.0: 5,\n",
              "             324.0: 1,\n",
              "             325.0: 10,\n",
              "             326.0: 7,\n",
              "             327.0: 3,\n",
              "             328.0: 7,\n",
              "             329.0: 4,\n",
              "             330.0: 5,\n",
              "             331.0: 7,\n",
              "             332.0: 8,\n",
              "             333.0: 5,\n",
              "             334.0: 3,\n",
              "             335.0: 5,\n",
              "             336.0: 8,\n",
              "             337.0: 8,\n",
              "             338.0: 7,\n",
              "             339.0: 4,\n",
              "             340.0: 5,\n",
              "             341.0: 5,\n",
              "             342.0: 2,\n",
              "             343.0: 7,\n",
              "             344.0: 4,\n",
              "             345.0: 9,\n",
              "             346.0: 6,\n",
              "             347.0: 4,\n",
              "             348.0: 3,\n",
              "             349.0: 5,\n",
              "             350.0: 8,\n",
              "             351.0: 1,\n",
              "             352.0: 3,\n",
              "             353.0: 4,\n",
              "             354.0: 3,\n",
              "             355.0: 6,\n",
              "             356.0: 4,\n",
              "             357.0: 1,\n",
              "             358.0: 5,\n",
              "             359.0: 6,\n",
              "             360.0: 5,\n",
              "             361.0: 5,\n",
              "             362.0: 7,\n",
              "             363.0: 5,\n",
              "             364.0: 7,\n",
              "             365.0: 4,\n",
              "             366.0: 2,\n",
              "             367.0: 2,\n",
              "             368.0: 4,\n",
              "             369.0: 4,\n",
              "             370.0: 4,\n",
              "             371.0: 4,\n",
              "             372.0: 8,\n",
              "             373.0: 2,\n",
              "             374.0: 2,\n",
              "             375.0: 3,\n",
              "             376.0: 5,\n",
              "             377.0: 7,\n",
              "             378.0: 4,\n",
              "             379.0: 3,\n",
              "             380.0: 3,\n",
              "             381.0: 6,\n",
              "             382.0: 2,\n",
              "             383.0: 6,\n",
              "             384.0: 3,\n",
              "             385.0: 3,\n",
              "             386.0: 2,\n",
              "             387.0: 5,\n",
              "             388.0: 3,\n",
              "             389.0: 7,\n",
              "             390.0: 4,\n",
              "             391.0: 2,\n",
              "             392.0: 6,\n",
              "             393.0: 6,\n",
              "             394.0: 4,\n",
              "             395.0: 4,\n",
              "             396.0: 1,\n",
              "             397.0: 4,\n",
              "             398.0: 4,\n",
              "             399.0: 6,\n",
              "             400.0: 4,\n",
              "             401.0: 1,\n",
              "             402.0: 4,\n",
              "             403.0: 2,\n",
              "             404.0: 1,\n",
              "             405.0: 3,\n",
              "             406.0: 6,\n",
              "             407.0: 4,\n",
              "             408.0: 5,\n",
              "             409.0: 4,\n",
              "             410.0: 2,\n",
              "             411.0: 3,\n",
              "             412.0: 2,\n",
              "             413.0: 4,\n",
              "             414.0: 2,\n",
              "             415.0: 4,\n",
              "             416.0: 2,\n",
              "             417.0: 2,\n",
              "             418.0: 1,\n",
              "             419.0: 3,\n",
              "             420.0: 4,\n",
              "             421.0: 4,\n",
              "             422.0: 3,\n",
              "             423.0: 2,\n",
              "             424.0: 2,\n",
              "             425.0: 3,\n",
              "             426.0: 4,\n",
              "             427.0: 3,\n",
              "             428.0: 2,\n",
              "             429.0: 6,\n",
              "             430.0: 5,\n",
              "             431.0: 3,\n",
              "             432.0: 4,\n",
              "             433.0: 2,\n",
              "             435.0: 3,\n",
              "             436.0: 3,\n",
              "             437.0: 2,\n",
              "             438.0: 1,\n",
              "             439.0: 5,\n",
              "             440.0: 5,\n",
              "             442.0: 3,\n",
              "             443.0: 2,\n",
              "             444.0: 2,\n",
              "             445.0: 1,\n",
              "             447.0: 3,\n",
              "             448.0: 2,\n",
              "             449.0: 1,\n",
              "             450.0: 1,\n",
              "             451.0: 5,\n",
              "             452.0: 2,\n",
              "             453.0: 2,\n",
              "             454.0: 2,\n",
              "             455.0: 2,\n",
              "             456.0: 1,\n",
              "             457.0: 2,\n",
              "             459.0: 3,\n",
              "             460.0: 3,\n",
              "             462.0: 1,\n",
              "             463.0: 1,\n",
              "             464.0: 3,\n",
              "             465.0: 1,\n",
              "             466.0: 3,\n",
              "             467.0: 1,\n",
              "             469.0: 4,\n",
              "             470.0: 2,\n",
              "             471.0: 1,\n",
              "             472.0: 2,\n",
              "             473.0: 2,\n",
              "             474.0: 1,\n",
              "             476.0: 1,\n",
              "             477.0: 1,\n",
              "             478.0: 1,\n",
              "             479.0: 2,\n",
              "             480.0: 2,\n",
              "             481.0: 2,\n",
              "             482.0: 3,\n",
              "             483.0: 2,\n",
              "             484.0: 2,\n",
              "             485.0: 3,\n",
              "             486.0: 2,\n",
              "             487.0: 1,\n",
              "             488.0: 2,\n",
              "             489.0: 1,\n",
              "             490.0: 3,\n",
              "             491.0: 2,\n",
              "             493.0: 2,\n",
              "             494.0: 1,\n",
              "             495.0: 2,\n",
              "             496.0: 1,\n",
              "             497.0: 1,\n",
              "             498.0: 1,\n",
              "             499.0: 3,\n",
              "             500.0: 1,\n",
              "             501.0: 3,\n",
              "             502.0: 2,\n",
              "             503.0: 4,\n",
              "             505.0: 1,\n",
              "             506.0: 3,\n",
              "             507.0: 1,\n",
              "             508.0: 1,\n",
              "             511.0: 2,\n",
              "             512.0: 2,\n",
              "             513.0: 5,\n",
              "             515.0: 1,\n",
              "             516.0: 1,\n",
              "             517.0: 3,\n",
              "             518.0: 1,\n",
              "             519.0: 4,\n",
              "             521.0: 3,\n",
              "             522.0: 2,\n",
              "             523.0: 1,\n",
              "             524.0: 1,\n",
              "             525.0: 3,\n",
              "             527.0: 5,\n",
              "             529.0: 1,\n",
              "             530.0: 1,\n",
              "             531.0: 3,\n",
              "             532.0: 4,\n",
              "             533.0: 1,\n",
              "             534.0: 1,\n",
              "             535.0: 2,\n",
              "             536.0: 1,\n",
              "             537.0: 1,\n",
              "             538.0: 2,\n",
              "             541.0: 3,\n",
              "             542.0: 3,\n",
              "             543.0: 1,\n",
              "             547.0: 3,\n",
              "             548.0: 4,\n",
              "             549.0: 2,\n",
              "             552.0: 1,\n",
              "             553.0: 2,\n",
              "             554.0: 3,\n",
              "             555.0: 1,\n",
              "             557.0: 3,\n",
              "             558.0: 1,\n",
              "             559.0: 1,\n",
              "             560.0: 2,\n",
              "             564.0: 1,\n",
              "             565.0: 2,\n",
              "             566.0: 1,\n",
              "             567.0: 2,\n",
              "             569.0: 2,\n",
              "             570.0: 2,\n",
              "             573.0: 3,\n",
              "             574.0: 1,\n",
              "             575.0: 1,\n",
              "             576.0: 1,\n",
              "             577.0: 1,\n",
              "             578.0: 2,\n",
              "             580.0: 1,\n",
              "             581.0: 3,\n",
              "             582.0: 1,\n",
              "             583.0: 4,\n",
              "             584.0: 1,\n",
              "             585.0: 2,\n",
              "             586.0: 3,\n",
              "             588.0: 2,\n",
              "             589.0: 2,\n",
              "             592.0: 2,\n",
              "             596.0: 3,\n",
              "             597.0: 2,\n",
              "             598.0: 1,\n",
              "             599.0: 1,\n",
              "             600.0: 1,\n",
              "             602.0: 2,\n",
              "             604.0: 3,\n",
              "             605.0: 2,\n",
              "             606.0: 3,\n",
              "             607.0: 4,\n",
              "             608.0: 1,\n",
              "             610.0: 1,\n",
              "             612.0: 1,\n",
              "             616.0: 1,\n",
              "             617.0: 1,\n",
              "             618.0: 1,\n",
              "             619.0: 1,\n",
              "             620.0: 2,\n",
              "             621.0: 1,\n",
              "             622.0: 2,\n",
              "             623.0: 1,\n",
              "             624.0: 1,\n",
              "             625.0: 2,\n",
              "             627.0: 1,\n",
              "             629.0: 3,\n",
              "             630.0: 1,\n",
              "             632.0: 1,\n",
              "             633.0: 1,\n",
              "             634.0: 2,\n",
              "             635.0: 1,\n",
              "             636.0: 2,\n",
              "             637.0: 1,\n",
              "             638.0: 1,\n",
              "             640.0: 1,\n",
              "             641.0: 1,\n",
              "             643.0: 3,\n",
              "             644.0: 1,\n",
              "             645.0: 2,\n",
              "             646.0: 1,\n",
              "             647.0: 2,\n",
              "             648.0: 2,\n",
              "             649.0: 1,\n",
              "             652.0: 1,\n",
              "             653.0: 2,\n",
              "             654.0: 1,\n",
              "             656.0: 1,\n",
              "             658.0: 1,\n",
              "             659.0: 2,\n",
              "             660.0: 2,\n",
              "             661.0: 2,\n",
              "             663.0: 3,\n",
              "             665.0: 1,\n",
              "             668.0: 1,\n",
              "             670.0: 2,\n",
              "             671.0: 1,\n",
              "             672.0: 2,\n",
              "             674.0: 1,\n",
              "             676.0: 1,\n",
              "             677.0: 1,\n",
              "             679.0: 1,\n",
              "             680.0: 1,\n",
              "             682.0: 1,\n",
              "             683.0: 1,\n",
              "             687.0: 1,\n",
              "             690.0: 1,\n",
              "             693.0: 1,\n",
              "             694.0: 2,\n",
              "             696.0: 1,\n",
              "             698.0: 1,\n",
              "             699.0: 1,\n",
              "             700.0: 1,\n",
              "             701.0: 1,\n",
              "             702.0: 3,\n",
              "             704.0: 1,\n",
              "             705.0: 3,\n",
              "             706.0: 2,\n",
              "             710.0: 1,\n",
              "             711.0: 1,\n",
              "             712.0: 1,\n",
              "             713.0: 1,\n",
              "             718.0: 1,\n",
              "             719.0: 1,\n",
              "             720.0: 3,\n",
              "             725.0: 1,\n",
              "             727.0: 1,\n",
              "             732.0: 1,\n",
              "             736.0: 1,\n",
              "             739.0: 1,\n",
              "             741.0: 1,\n",
              "             742.0: 1,\n",
              "             743.0: 1,\n",
              "             744.0: 1,\n",
              "             746.0: 2,\n",
              "             747.0: 1,\n",
              "             753.0: 2,\n",
              "             754.0: 1,\n",
              "             757.0: 1,\n",
              "             764.0: 1,\n",
              "             765.0: 1,\n",
              "             766.0: 1,\n",
              "             772.0: 1,\n",
              "             773.0: 1,\n",
              "             776.0: 2,\n",
              "             781.0: 1,\n",
              "             789.0: 1,\n",
              "             795.0: 1,\n",
              "             796.0: 2,\n",
              "             800.0: 1,\n",
              "             803.0: 2,\n",
              "             804.0: 1,\n",
              "             805.0: 1,\n",
              "             809.0: 1,\n",
              "             811.0: 2,\n",
              "             814.0: 1,\n",
              "             819.0: 2,\n",
              "             820.0: 2,\n",
              "             821.0: 1,\n",
              "             822.0: 1,\n",
              "             828.0: 1,\n",
              "             829.0: 1,\n",
              "             830.0: 1,\n",
              "             833.0: 2,\n",
              "             834.0: 1,\n",
              "             837.0: 1,\n",
              "             838.0: 2,\n",
              "             840.0: 1,\n",
              "             848.0: 2,\n",
              "             854.0: 1,\n",
              "             861.0: 1,\n",
              "             862.0: 1,\n",
              "             871.0: 1,\n",
              "             872.0: 1,\n",
              "             875.0: 1,\n",
              "             880.0: 1,\n",
              "             882.0: 2,\n",
              "             896.0: 1,\n",
              "             898.0: 1,\n",
              "             903.0: 1,\n",
              "             915.0: 3,\n",
              "             916.0: 1,\n",
              "             923.0: 1,\n",
              "             924.0: 1,\n",
              "             947.0: 1,\n",
              "             956.0: 1,\n",
              "             960.0: 1,\n",
              "             980.0: 1,\n",
              "             989.0: 1,\n",
              "             1002.0: 1,\n",
              "             1005.0: 1,\n",
              "             1029.0: 1,\n",
              "             1040.0: 1,\n",
              "             1069.0: 1,\n",
              "             1081.0: 1,\n",
              "             1094.0: 1,\n",
              "             1095.0: 1,\n",
              "             1105.0: 1,\n",
              "             1108.0: 1,\n",
              "             1138.0: 1,\n",
              "             1253.0: 1,\n",
              "             1287.0: 1})"
            ]
          },
          "metadata": {},
          "execution_count": 168
        }
      ]
    },
    {
      "cell_type": "code",
      "metadata": {
        "id": "gHp4T2nKghMP"
      },
      "source": [
        ""
      ],
      "execution_count": null,
      "outputs": []
    },
    {
      "cell_type": "markdown",
      "metadata": {
        "id": "COIgr65hgj6b"
      },
      "source": [
        "## JOIN"
      ]
    },
    {
      "cell_type": "markdown",
      "metadata": {
        "id": "PNAGeyOmzEN4"
      },
      "source": [
        "### Задание\n",
        "Повторите вышеописанное задание с помощью одной из функций ниже (отдельно рассчитайте для train и test, затем объедините результат)\n",
        "\n",
        "Пример для двух RDDs: (rdd = {(1, 2), (3, 4), (3, 6)} other = {(3, 9)})\n",
        "\n",
        "Имя функции |\tPurpose |\tExample |\tResult\n",
        "------------- |\t------- |\t------- |\t------\n",
        "subtractByKey |Remove elements with a key present in the other RDD.| rdd.subtractByKey(other) | {(1, 2)}\n",
        "join | Perform an inner join between two RDDs. | rdd.join(other) | {(3, (4, 9)), (3, (6, 9))}\n",
        "rightOuterJoin | Perform a join between two RDDs where the key must be present in the first RDD. | rdd.rightOuterJoin(other) | {(3,(Some(4),9)), (3,(Some(6),9))}leftOuterJoin | Perform a join between two RDDs where the key must be present in the other RDD. | rdd.leftOuterJoin(other) | {(1,(2,None)), (3,(4,Some(9))), (3,(6,Some(9)))}\n",
        "cogroup | Group data from both RDDs sharing the same key. | rdd.cogroup(other) | {(1,([2],[])), (3,([4, 6],[9]))}\n"
      ]
    },
    {
      "cell_type": "markdown",
      "metadata": {
        "id": "JJ7l3NNDgvqx"
      },
      "source": [
        "### Реализация"
      ]
    },
    {
      "cell_type": "code",
      "metadata": {
        "colab": {
          "base_uri": "https://localhost:8080/",
          "height": 53
        },
        "id": "bVlxXtl2hW58",
        "outputId": "8c98f4c9-ff75-48bd-a7b2-5497b5d9c71c"
      },
      "source": [
        "train_first_row"
      ],
      "execution_count": 186,
      "outputs": [
        {
          "output_type": "execute_result",
          "data": {
            "application/vnd.google.colaboratory.intrinsic+json": {
              "type": "string"
            },
            "text/plain": [
              "'battery_power,blue,clock_speed,dual_sim,fc,four_g,int_memory,m_dep,mobile_wt,n_cores,pc,px_height,px_width,ram,sc_h,sc_w,talk_time,three_g,touch_screen,wifi,price_range'"
            ]
          },
          "metadata": {},
          "execution_count": 186
        }
      ]
    },
    {
      "cell_type": "code",
      "metadata": {
        "colab": {
          "base_uri": "https://localhost:8080/",
          "height": 53
        },
        "id": "s6BWKLyHhW9b",
        "outputId": "eadc33f7-aa5c-4490-a3d0-aab6206c3192"
      },
      "source": [
        "test_first_row"
      ],
      "execution_count": 187,
      "outputs": [
        {
          "output_type": "execute_result",
          "data": {
            "application/vnd.google.colaboratory.intrinsic+json": {
              "type": "string"
            },
            "text/plain": [
              "'id,battery_power,blue,clock_speed,dual_sim,fc,four_g,int_memory,m_dep,mobile_wt,n_cores,pc,px_height,px_width,ram,sc_h,sc_w,talk_time,three_g,touch_screen,wifi'"
            ]
          },
          "metadata": {},
          "execution_count": 187
        }
      ]
    },
    {
      "cell_type": "code",
      "metadata": {
        "colab": {
          "base_uri": "https://localhost:8080/"
        },
        "id": "TNhzDmKchXA5",
        "outputId": "f83c9443-bdde-4af8-8252-b6760f69348e"
      },
      "source": [
        "train.count()"
      ],
      "execution_count": 188,
      "outputs": [
        {
          "output_type": "execute_result",
          "data": {
            "text/plain": [
              "2000"
            ]
          },
          "metadata": {},
          "execution_count": 188
        }
      ]
    },
    {
      "cell_type": "code",
      "metadata": {
        "colab": {
          "base_uri": "https://localhost:8080/"
        },
        "id": "ogqvJ91ChXE0",
        "outputId": "3ce6dbd3-1038-41e4-f039-810ac392e377"
      },
      "source": [
        "test.count()"
      ],
      "execution_count": 189,
      "outputs": [
        {
          "output_type": "execute_result",
          "data": {
            "text/plain": [
              "1000"
            ]
          },
          "metadata": {},
          "execution_count": 189
        }
      ]
    },
    {
      "cell_type": "code",
      "metadata": {
        "id": "iSXCT_8WhXIH"
      },
      "source": [
        "# Подготавливаем для работы train\n",
        "\n",
        "# Определяем номера столбцов с шириной и высотой экрана\n",
        "tr_sc_w = [x[0] for x in enumerate(train_first_row.split(',')) if x[1] == 'sc_w'][0]\n",
        "tr_sc_h = [x[0] for x in enumerate(train_first_row.split(',')) if x[1] == 'sc_h'][0]\n",
        "\n",
        "# Определяем номера столбцов с пикселями\n",
        "tr_px_width = [x[0] for x in enumerate(train_first_row.split(',')) if x[1] == 'px_width'][0]\n",
        "tr_px_height = [x[0] for x in enumerate(train_first_row.split(',')) if x[1] == 'px_height'][0]\n",
        "\n",
        "# Оставляем строки с положительными значениями \n",
        "jtrain = train.filter(lambda row: row[tr_sc_w] > 0)\n",
        "jtrain = jtrain.filter(lambda row: row[tr_sc_h] > 0)\n",
        "jtrain = jtrain.filter(lambda row: row[tr_px_width] > 0)\n",
        "jtrain = jtrain.filter(lambda row: row[tr_px_height] > 0)\n"
      ],
      "execution_count": 190,
      "outputs": []
    },
    {
      "cell_type": "code",
      "metadata": {
        "id": "paBIpHAMhXLF"
      },
      "source": [
        "# Подготавливаем для работы test\n",
        "\n",
        "# Определяем номера столбцов с шириной и высотой экрана\n",
        "te_sc_w = [x[0] for x in enumerate(test_first_row.split(',')) if x[1] == 'sc_w'][0]\n",
        "te_sc_h = [x[0] for x in enumerate(test_first_row.split(',')) if x[1] == 'sc_h'][0]\n",
        "\n",
        "# Определяем номера столбцов с пикселями\n",
        "te_px_width = [x[0] for x in enumerate(test_first_row.split(',')) if x[1] == 'px_width'][0]\n",
        "te_px_height = [x[0] for x in enumerate(test_first_row.split(',')) if x[1] == 'px_height'][0]\n",
        "\n",
        "# Оставляем строки с положительными значениями \n",
        "jtest = test.filter(lambda row: row[te_sc_w] > 0)\n",
        "jtest = jtest.filter(lambda row: row[te_sc_h] > 0)\n",
        "jtest = jtest.filter(lambda row: row[te_px_width] > 0)\n",
        "jtest = jtest.filter(lambda row: row[te_px_height] > 0)"
      ],
      "execution_count": 191,
      "outputs": []
    },
    {
      "cell_type": "code",
      "metadata": {
        "colab": {
          "base_uri": "https://localhost:8080/"
        },
        "id": "udaAt_7uhXOp",
        "outputId": "026f3b05-676d-4856-c76e-e3ad00a61caf"
      },
      "source": [
        "jtrain.count()"
      ],
      "execution_count": 192,
      "outputs": [
        {
          "output_type": "execute_result",
          "data": {
            "text/plain": [
              "1819"
            ]
          },
          "metadata": {},
          "execution_count": 192
        }
      ]
    },
    {
      "cell_type": "code",
      "metadata": {
        "colab": {
          "base_uri": "https://localhost:8080/"
        },
        "id": "hDIiaFliiGuh",
        "outputId": "f1fbe6b5-d193-4387-d6fb-0150f5aaf264"
      },
      "source": [
        "jtest.count()"
      ],
      "execution_count": 193,
      "outputs": [
        {
          "output_type": "execute_result",
          "data": {
            "text/plain": [
              "886"
            ]
          },
          "metadata": {},
          "execution_count": 193
        }
      ]
    },
    {
      "cell_type": "code",
      "metadata": {
        "id": "jwlKs-iYiGyO"
      },
      "source": [
        "# Вычисляем соотношение сторон для train и test\n",
        "tr_screen_aspect_ratio = jtrain.map(lambda row: (round(row[tr_sc_h] / row[tr_sc_w], 2), 1)).sortByKey().countByKey()\n",
        "te_screen_aspect_ratio = jtest.map(lambda row: (round(row[te_sc_h] / row[te_sc_w], 2), 1)).sortByKey().countByKey()\n",
        "\n",
        "# Вычисляем PPI для train и test\n",
        "tr_PPI = jtrain.map(lambda row: \\\n",
        "                          (\\\n",
        "                            round( \\\n",
        "                              ((row[tr_px_width] ** 2 + row[tr_px_height] ** 2) ** 0.5) / \\\n",
        "                              (((row[tr_sc_w] ** 2 + row[tr_sc_h] ** 2) ** 0.5) * 0.3937) \\\n",
        "                                    , 0) \\\n",
        "                           , 1) \\\n",
        "              ).sortByKey().countByKey()\n",
        "\n",
        "te_PPI = jtest.map(lambda row: \\\n",
        "                          (\\\n",
        "                            round( \\\n",
        "                              ((row[te_px_width] ** 2 + row[te_px_height] ** 2) ** 0.5) / \\\n",
        "                              (((row[te_sc_w] ** 2 + row[te_sc_h] ** 2) ** 0.5) * 0.3937) \\\n",
        "                                    , 0) \\\n",
        "                           , 1) \\\n",
        "              ).sortByKey().countByKey()"
      ],
      "execution_count": 194,
      "outputs": []
    },
    {
      "cell_type": "code",
      "metadata": {
        "id": "qfaOwtHLiG05"
      },
      "source": [
        "# Создаем объекты RDD, на основании полученных данных о соотношении сторон и PPI\n",
        "train_subtract = sc.parallelize(tr_screen_aspect_ratio.items())\n",
        "test_subtract = sc.parallelize(te_screen_aspect_ratio.items())\n",
        "\n",
        "train_join = sc.parallelize(tr_PPI.items())\n",
        "test_join = sc.parallelize(te_PPI.items())"
      ],
      "execution_count": 195,
      "outputs": []
    },
    {
      "cell_type": "code",
      "metadata": {
        "colab": {
          "base_uri": "https://localhost:8080/"
        },
        "id": "4VU9a-taiG3o",
        "outputId": "5424d2bd-b1e8-4058-c080-c5dc2bb62981"
      },
      "source": [
        "train_subtract.subtractByKey(test_subtract).collect()"
      ],
      "execution_count": 196,
      "outputs": [
        {
          "output_type": "execute_result",
          "data": {
            "text/plain": [
              "[(1.09, 16)]"
            ]
          },
          "metadata": {},
          "execution_count": 196
        }
      ]
    },
    {
      "cell_type": "code",
      "metadata": {
        "colab": {
          "base_uri": "https://localhost:8080/"
        },
        "id": "Dvep17LDidyH",
        "outputId": "34b36b4b-0a6d-4323-f618-9e73f253603a"
      },
      "source": [
        "train_join.join(test_join).sortByKey().collect()"
      ],
      "execution_count": 197,
      "outputs": [
        {
          "output_type": "execute_result",
          "data": {
            "text/plain": [
              "[(61.0, (1, 2)),\n",
              " (73.0, (1, 1)),\n",
              " (74.0, (1, 1)),\n",
              " (76.0, (1, 1)),\n",
              " (79.0, (4, 2)),\n",
              " (80.0, (1, 4)),\n",
              " (82.0, (4, 2)),\n",
              " (83.0, (4, 4)),\n",
              " (84.0, (5, 1)),\n",
              " (85.0, (3, 1)),\n",
              " (86.0, (2, 1)),\n",
              " (87.0, (4, 4)),\n",
              " (88.0, (2, 3)),\n",
              " (89.0, (2, 3)),\n",
              " (90.0, (3, 1)),\n",
              " (91.0, (2, 1)),\n",
              " (92.0, (3, 2)),\n",
              " (93.0, (2, 4)),\n",
              " (94.0, (2, 1)),\n",
              " (95.0, (3, 1)),\n",
              " (97.0, (2, 3)),\n",
              " (98.0, (1, 1)),\n",
              " (99.0, (4, 1)),\n",
              " (100.0, (3, 2)),\n",
              " (102.0, (5, 2)),\n",
              " (103.0, (4, 2)),\n",
              " (105.0, (5, 1)),\n",
              " (106.0, (2, 1)),\n",
              " (107.0, (4, 1)),\n",
              " (108.0, (1, 1)),\n",
              " (109.0, (3, 3)),\n",
              " (110.0, (5, 3)),\n",
              " (111.0, (3, 2)),\n",
              " (112.0, (3, 5)),\n",
              " (113.0, (2, 1)),\n",
              " (114.0, (4, 3)),\n",
              " (115.0, (2, 3)),\n",
              " (116.0, (5, 1)),\n",
              " (117.0, (5, 3)),\n",
              " (118.0, (5, 3)),\n",
              " (120.0, (4, 3)),\n",
              " (121.0, (6, 5)),\n",
              " (122.0, (11, 2)),\n",
              " (123.0, (4, 2)),\n",
              " (124.0, (4, 3)),\n",
              " (126.0, (4, 2)),\n",
              " (127.0, (6, 2)),\n",
              " (128.0, (9, 3)),\n",
              " (129.0, (2, 3)),\n",
              " (130.0, (1, 1)),\n",
              " (131.0, (3, 1)),\n",
              " (132.0, (8, 2)),\n",
              " (133.0, (7, 1)),\n",
              " (134.0, (3, 1)),\n",
              " (136.0, (6, 2)),\n",
              " (137.0, (8, 4)),\n",
              " (138.0, (7, 6)),\n",
              " (139.0, (7, 3)),\n",
              " (140.0, (7, 1)),\n",
              " (141.0, (1, 2)),\n",
              " (144.0, (8, 2)),\n",
              " (145.0, (4, 4)),\n",
              " (146.0, (1, 2)),\n",
              " (147.0, (6, 1)),\n",
              " (148.0, (3, 2)),\n",
              " (149.0, (4, 1)),\n",
              " (150.0, (9, 1)),\n",
              " (151.0, (6, 4)),\n",
              " (153.0, (5, 4)),\n",
              " (154.0, (3, 6)),\n",
              " (155.0, (5, 2)),\n",
              " (156.0, (6, 1)),\n",
              " (157.0, (6, 3)),\n",
              " (158.0, (7, 2)),\n",
              " (159.0, (3, 2)),\n",
              " (160.0, (1, 2)),\n",
              " (162.0, (6, 4)),\n",
              " (163.0, (3, 2)),\n",
              " (164.0, (2, 3)),\n",
              " (165.0, (5, 4)),\n",
              " (166.0, (7, 4)),\n",
              " (167.0, (6, 1)),\n",
              " (168.0, (5, 4)),\n",
              " (169.0, (9, 2)),\n",
              " (170.0, (4, 1)),\n",
              " (171.0, (5, 6)),\n",
              " (172.0, (7, 3)),\n",
              " (173.0, (5, 2)),\n",
              " (174.0, (6, 4)),\n",
              " (175.0, (6, 3)),\n",
              " (176.0, (8, 5)),\n",
              " (178.0, (3, 2)),\n",
              " (179.0, (5, 2)),\n",
              " (180.0, (6, 6)),\n",
              " (181.0, (7, 4)),\n",
              " (182.0, (9, 2)),\n",
              " (183.0, (8, 2)),\n",
              " (184.0, (5, 3)),\n",
              " (185.0, (5, 6)),\n",
              " (186.0, (6, 1)),\n",
              " (187.0, (2, 4)),\n",
              " (188.0, (8, 4)),\n",
              " (189.0, (5, 2)),\n",
              " (190.0, (6, 3)),\n",
              " (191.0, (5, 2)),\n",
              " (192.0, (6, 1)),\n",
              " (193.0, (6, 3)),\n",
              " (194.0, (2, 3)),\n",
              " (195.0, (4, 3)),\n",
              " (196.0, (8, 1)),\n",
              " (197.0, (10, 4)),\n",
              " (198.0, (7, 4)),\n",
              " (199.0, (7, 6)),\n",
              " (200.0, (6, 4)),\n",
              " (201.0, (6, 4)),\n",
              " (202.0, (7, 2)),\n",
              " (203.0, (6, 2)),\n",
              " (204.0, (8, 1)),\n",
              " (205.0, (9, 2)),\n",
              " (206.0, (6, 6)),\n",
              " (207.0, (4, 2)),\n",
              " (208.0, (7, 3)),\n",
              " (209.0, (10, 7)),\n",
              " (210.0, (9, 2)),\n",
              " (211.0, (2, 1)),\n",
              " (212.0, (6, 2)),\n",
              " (213.0, (5, 1)),\n",
              " (214.0, (6, 5)),\n",
              " (215.0, (8, 2)),\n",
              " (217.0, (2, 2)),\n",
              " (218.0, (3, 3)),\n",
              " (219.0, (6, 2)),\n",
              " (220.0, (6, 4)),\n",
              " (221.0, (10, 2)),\n",
              " (222.0, (5, 1)),\n",
              " (223.0, (4, 1)),\n",
              " (224.0, (8, 1)),\n",
              " (225.0, (8, 7)),\n",
              " (227.0, (6, 4)),\n",
              " (228.0, (5, 4)),\n",
              " (230.0, (7, 3)),\n",
              " (231.0, (7, 1)),\n",
              " (232.0, (4, 2)),\n",
              " (233.0, (6, 1)),\n",
              " (235.0, (6, 3)),\n",
              " (236.0, (9, 1)),\n",
              " (237.0, (2, 4)),\n",
              " (238.0, (5, 4)),\n",
              " (239.0, (4, 2)),\n",
              " (240.0, (4, 2)),\n",
              " (241.0, (5, 1)),\n",
              " (242.0, (9, 3)),\n",
              " (243.0, (2, 1)),\n",
              " (244.0, (5, 3)),\n",
              " (245.0, (7, 2)),\n",
              " (246.0, (7, 5)),\n",
              " (247.0, (3, 2)),\n",
              " (248.0, (5, 1)),\n",
              " (249.0, (8, 3)),\n",
              " (250.0, (7, 3)),\n",
              " (251.0, (4, 1)),\n",
              " (252.0, (1, 3)),\n",
              " (253.0, (3, 5)),\n",
              " (254.0, (2, 1)),\n",
              " (256.0, (4, 3)),\n",
              " (257.0, (1, 1)),\n",
              " (258.0, (11, 4)),\n",
              " (259.0, (6, 2)),\n",
              " (260.0, (2, 3)),\n",
              " (261.0, (3, 4)),\n",
              " (262.0, (8, 2)),\n",
              " (263.0, (6, 1)),\n",
              " (264.0, (3, 2)),\n",
              " (265.0, (9, 3)),\n",
              " (266.0, (4, 2)),\n",
              " (267.0, (4, 2)),\n",
              " (268.0, (3, 3)),\n",
              " (269.0, (5, 2)),\n",
              " (270.0, (5, 1)),\n",
              " (271.0, (4, 1)),\n",
              " (272.0, (6, 2)),\n",
              " (273.0, (5, 4)),\n",
              " (274.0, (4, 2)),\n",
              " (276.0, (4, 3)),\n",
              " (277.0, (6, 2)),\n",
              " (278.0, (4, 2)),\n",
              " (279.0, (3, 3)),\n",
              " (281.0, (3, 3)),\n",
              " (282.0, (7, 2)),\n",
              " (283.0, (5, 3)),\n",
              " (285.0, (10, 1)),\n",
              " (287.0, (5, 2)),\n",
              " (288.0, (5, 1)),\n",
              " (289.0, (6, 2)),\n",
              " (290.0, (3, 2)),\n",
              " (291.0, (4, 2)),\n",
              " (292.0, (12, 4)),\n",
              " (293.0, (2, 1)),\n",
              " (294.0, (4, 2)),\n",
              " (295.0, (1, 3)),\n",
              " (296.0, (5, 4)),\n",
              " (297.0, (6, 1)),\n",
              " (298.0, (2, 3)),\n",
              " (299.0, (3, 3)),\n",
              " (300.0, (4, 1)),\n",
              " (301.0, (4, 4)),\n",
              " (302.0, (1, 1)),\n",
              " (303.0, (3, 3)),\n",
              " (304.0, (7, 1)),\n",
              " (305.0, (8, 2)),\n",
              " (306.0, (2, 1)),\n",
              " (307.0, (2, 1)),\n",
              " (308.0, (6, 1)),\n",
              " (309.0, (3, 2)),\n",
              " (310.0, (3, 5)),\n",
              " (311.0, (5, 2)),\n",
              " (312.0, (1, 5)),\n",
              " (313.0, (3, 1)),\n",
              " (314.0, (4, 1)),\n",
              " (315.0, (7, 1)),\n",
              " (317.0, (6, 5)),\n",
              " (318.0, (3, 1)),\n",
              " (319.0, (3, 2)),\n",
              " (320.0, (2, 1)),\n",
              " (321.0, (5, 1)),\n",
              " (322.0, (7, 1)),\n",
              " (323.0, (4, 1)),\n",
              " (326.0, (5, 2)),\n",
              " (327.0, (2, 1)),\n",
              " (328.0, (6, 1)),\n",
              " (329.0, (3, 1)),\n",
              " (330.0, (2, 3)),\n",
              " (331.0, (6, 1)),\n",
              " (332.0, (4, 4)),\n",
              " (333.0, (3, 2)),\n",
              " (334.0, (1, 2)),\n",
              " (335.0, (4, 1)),\n",
              " (336.0, (6, 2)),\n",
              " (337.0, (5, 3)),\n",
              " (338.0, (4, 3)),\n",
              " (339.0, (3, 1)),\n",
              " (343.0, (6, 1)),\n",
              " (344.0, (2, 2)),\n",
              " (345.0, (6, 3)),\n",
              " (346.0, (4, 2)),\n",
              " (347.0, (2, 2)),\n",
              " (348.0, (1, 2)),\n",
              " (349.0, (2, 3)),\n",
              " (350.0, (6, 2)),\n",
              " (355.0, (4, 2)),\n",
              " (358.0, (2, 3)),\n",
              " (359.0, (4, 2)),\n",
              " (360.0, (4, 1)),\n",
              " (361.0, (3, 2)),\n",
              " (362.0, (4, 3)),\n",
              " (363.0, (3, 2)),\n",
              " (364.0, (6, 1)),\n",
              " (365.0, (2, 2)),\n",
              " (366.0, (1, 1)),\n",
              " (368.0, (2, 2)),\n",
              " (369.0, (3, 1)),\n",
              " (370.0, (3, 1)),\n",
              " (371.0, (2, 2)),\n",
              " (372.0, (7, 1)),\n",
              " (374.0, (1, 1)),\n",
              " (376.0, (4, 1)),\n",
              " (377.0, (5, 2)),\n",
              " (378.0, (3, 1)),\n",
              " (380.0, (1, 2)),\n",
              " (381.0, (4, 2)),\n",
              " (383.0, (5, 1)),\n",
              " (384.0, (2, 1)),\n",
              " (387.0, (1, 4)),\n",
              " (388.0, (1, 2)),\n",
              " (389.0, (3, 4)),\n",
              " (390.0, (3, 1)),\n",
              " (391.0, (1, 1)),\n",
              " (392.0, (5, 1)),\n",
              " (393.0, (1, 5)),\n",
              " (394.0, (2, 2)),\n",
              " (395.0, (3, 1)),\n",
              " (397.0, (1, 3)),\n",
              " (398.0, (3, 1)),\n",
              " (399.0, (5, 1)),\n",
              " (400.0, (2, 2)),\n",
              " (402.0, (3, 1)),\n",
              " (403.0, (1, 1)),\n",
              " (405.0, (1, 2)),\n",
              " (406.0, (4, 2)),\n",
              " (407.0, (3, 1)),\n",
              " (408.0, (3, 2)),\n",
              " (409.0, (3, 1)),\n",
              " (411.0, (2, 1)),\n",
              " (413.0, (1, 3)),\n",
              " (414.0, (1, 1)),\n",
              " (415.0, (3, 1)),\n",
              " (420.0, (3, 1)),\n",
              " (421.0, (3, 1)),\n",
              " (422.0, (1, 2)),\n",
              " (426.0, (2, 2)),\n",
              " (430.0, (3, 2)),\n",
              " (431.0, (1, 2)),\n",
              " (432.0, (3, 1)),\n",
              " (435.0, (1, 2)),\n",
              " (436.0, (2, 1)),\n",
              " (437.0, (1, 1)),\n",
              " (439.0, (1, 4)),\n",
              " (440.0, (3, 2)),\n",
              " (443.0, (1, 1)),\n",
              " (444.0, (1, 1)),\n",
              " (447.0, (1, 2)),\n",
              " (451.0, (1, 4)),\n",
              " (454.0, (1, 1)),\n",
              " (455.0, (1, 1)),\n",
              " (457.0, (1, 1)),\n",
              " (459.0, (2, 1)),\n",
              " (464.0, (2, 1)),\n",
              " (466.0, (1, 2)),\n",
              " (469.0, (3, 1)),\n",
              " (470.0, (1, 1)),\n",
              " (472.0, (1, 1)),\n",
              " (479.0, (1, 1)),\n",
              " (480.0, (1, 1)),\n",
              " (482.0, (2, 1)),\n",
              " (486.0, (1, 1)),\n",
              " (488.0, (1, 1)),\n",
              " (491.0, (1, 1)),\n",
              " (499.0, (1, 2)),\n",
              " (501.0, (1, 2)),\n",
              " (506.0, (1, 2)),\n",
              " (511.0, (1, 1)),\n",
              " (512.0, (1, 1)),\n",
              " (513.0, (4, 1)),\n",
              " (519.0, (2, 2)),\n",
              " (521.0, (2, 1)),\n",
              " (522.0, (1, 1)),\n",
              " (525.0, (2, 1)),\n",
              " (527.0, (2, 3)),\n",
              " (531.0, (2, 1)),\n",
              " (542.0, (2, 1)),\n",
              " (548.0, (3, 1)),\n",
              " (549.0, (1, 1)),\n",
              " (554.0, (2, 1)),\n",
              " (557.0, (2, 1)),\n",
              " (560.0, (1, 1)),\n",
              " (565.0, (1, 1)),\n",
              " (569.0, (1, 1)),\n",
              " (573.0, (2, 1)),\n",
              " (578.0, (1, 1)),\n",
              " (581.0, (2, 1)),\n",
              " (583.0, (3, 1)),\n",
              " (585.0, (1, 1)),\n",
              " (586.0, (2, 1)),\n",
              " (588.0, (1, 1)),\n",
              " (589.0, (1, 1)),\n",
              " (592.0, (1, 1)),\n",
              " (605.0, (1, 1)),\n",
              " (607.0, (3, 1)),\n",
              " (643.0, (2, 1)),\n",
              " (645.0, (1, 1)),\n",
              " (647.0, (1, 1)),\n",
              " (672.0, (1, 1)),\n",
              " (705.0, (2, 1)),\n",
              " (720.0, (2, 1)),\n",
              " (746.0, (1, 1)),\n",
              " (753.0, (1, 1)),\n",
              " (820.0, (1, 1)),\n",
              " (838.0, (1, 1)),\n",
              " (882.0, (1, 1)),\n",
              " (915.0, (2, 1))]"
            ]
          },
          "metadata": {},
          "execution_count": 197
        }
      ]
    },
    {
      "cell_type": "markdown",
      "metadata": {
        "id": "uySWyv8CXIMF"
      },
      "source": [
        "## DataFrame"
      ]
    },
    {
      "cell_type": "markdown",
      "metadata": {
        "id": "MQxT7BV0ld1g"
      },
      "source": [
        "### Задание\n",
        "Теперь мы знаем про Dataframe. Нужно сделать практически всё то же самое, но используя датафрейм."
      ]
    },
    {
      "cell_type": "markdown",
      "metadata": {
        "id": "T-hWSGczlkUF"
      },
      "source": [
        "### Реализация"
      ]
    },
    {
      "cell_type": "code",
      "metadata": {
        "id": "4lKUvjdlid1p"
      },
      "source": [
        "from pyspark.sql import functions as F\n",
        "from pyspark.sql.types import StructType, StructField, FloatType\n",
        "\n",
        "# Считываем данные сразу с правильными типами (inferSchema). \n",
        "df_train = spark.read.csv('./train.csv',header = True, inferSchema = True)\n",
        "df_test = spark.read.csv('./test.csv',header = True, inferSchema = True)"
      ],
      "execution_count": 198,
      "outputs": []
    },
    {
      "cell_type": "code",
      "metadata": {
        "colab": {
          "base_uri": "https://localhost:8080/"
        },
        "id": "jNb8agzRid6B",
        "outputId": "7ac22d1d-1073-4fd2-b88e-a421e2958f83"
      },
      "source": [
        "# Уместно посмотреть схемы данных\n",
        "df_train.printSchema()"
      ],
      "execution_count": 199,
      "outputs": [
        {
          "output_type": "stream",
          "name": "stdout",
          "text": [
            "root\n",
            " |-- battery_power: integer (nullable = true)\n",
            " |-- blue: integer (nullable = true)\n",
            " |-- clock_speed: double (nullable = true)\n",
            " |-- dual_sim: integer (nullable = true)\n",
            " |-- fc: integer (nullable = true)\n",
            " |-- four_g: integer (nullable = true)\n",
            " |-- int_memory: integer (nullable = true)\n",
            " |-- m_dep: double (nullable = true)\n",
            " |-- mobile_wt: integer (nullable = true)\n",
            " |-- n_cores: integer (nullable = true)\n",
            " |-- pc: integer (nullable = true)\n",
            " |-- px_height: integer (nullable = true)\n",
            " |-- px_width: integer (nullable = true)\n",
            " |-- ram: integer (nullable = true)\n",
            " |-- sc_h: integer (nullable = true)\n",
            " |-- sc_w: integer (nullable = true)\n",
            " |-- talk_time: integer (nullable = true)\n",
            " |-- three_g: integer (nullable = true)\n",
            " |-- touch_screen: integer (nullable = true)\n",
            " |-- wifi: integer (nullable = true)\n",
            " |-- price_range: integer (nullable = true)\n",
            "\n"
          ]
        }
      ]
    },
    {
      "cell_type": "code",
      "metadata": {
        "colab": {
          "base_uri": "https://localhost:8080/"
        },
        "id": "RTrzY-Z4id9X",
        "outputId": "38b092a2-ca36-4f90-a4a2-7e6eda910d46"
      },
      "source": [
        "df_test.printSchema()"
      ],
      "execution_count": 200,
      "outputs": [
        {
          "output_type": "stream",
          "name": "stdout",
          "text": [
            "root\n",
            " |-- id: integer (nullable = true)\n",
            " |-- battery_power: integer (nullable = true)\n",
            " |-- blue: integer (nullable = true)\n",
            " |-- clock_speed: double (nullable = true)\n",
            " |-- dual_sim: integer (nullable = true)\n",
            " |-- fc: integer (nullable = true)\n",
            " |-- four_g: integer (nullable = true)\n",
            " |-- int_memory: integer (nullable = true)\n",
            " |-- m_dep: double (nullable = true)\n",
            " |-- mobile_wt: integer (nullable = true)\n",
            " |-- n_cores: integer (nullable = true)\n",
            " |-- pc: integer (nullable = true)\n",
            " |-- px_height: integer (nullable = true)\n",
            " |-- px_width: integer (nullable = true)\n",
            " |-- ram: integer (nullable = true)\n",
            " |-- sc_h: integer (nullable = true)\n",
            " |-- sc_w: integer (nullable = true)\n",
            " |-- talk_time: integer (nullable = true)\n",
            " |-- three_g: integer (nullable = true)\n",
            " |-- touch_screen: integer (nullable = true)\n",
            " |-- wifi: integer (nullable = true)\n",
            "\n"
          ]
        }
      ]
    },
    {
      "cell_type": "code",
      "metadata": {
        "id": "CLPzz0sSiG6z"
      },
      "source": [
        "# Помним, что атрибуты-столбцы различаются\n",
        "# Находим общие столбцы в обоих файлах\n",
        "ident_columns = set(df_train.columns) & set(df_test.columns)\n",
        "\n",
        "# Удаляем различающиеся столбцы из обоих dataframe'ов\n",
        "df_train = df_train.drop(*(set(df_train.columns) - ident_columns))\n",
        "df_test = df_test.drop(*(set(df_test.columns) - ident_columns))\n",
        "\n",
        "# Объединяем данные\n",
        "df_data = df_train.union(df_test)"
      ],
      "execution_count": 201,
      "outputs": []
    },
    {
      "cell_type": "code",
      "metadata": {
        "id": "-10g1Ac_L_W_"
      },
      "source": [
        "# Немного статистики - что у нас получилось"
      ],
      "execution_count": null,
      "outputs": []
    },
    {
      "cell_type": "code",
      "metadata": {
        "colab": {
          "base_uri": "https://localhost:8080/"
        },
        "id": "_2l_PnMIJQVY",
        "outputId": "bc0029d6-77cb-4ad2-b3f5-50cb2fe8a9ba"
      },
      "source": [
        "df_train.count()"
      ],
      "execution_count": 202,
      "outputs": [
        {
          "output_type": "execute_result",
          "data": {
            "text/plain": [
              "2000"
            ]
          },
          "metadata": {},
          "execution_count": 202
        }
      ]
    },
    {
      "cell_type": "code",
      "metadata": {
        "colab": {
          "base_uri": "https://localhost:8080/"
        },
        "id": "zb7UR4MhJQYy",
        "outputId": "18433e4e-c637-4acb-a215-7d17cafa2f7a"
      },
      "source": [
        "df_test.count()"
      ],
      "execution_count": 203,
      "outputs": [
        {
          "output_type": "execute_result",
          "data": {
            "text/plain": [
              "1000"
            ]
          },
          "metadata": {},
          "execution_count": 203
        }
      ]
    },
    {
      "cell_type": "code",
      "metadata": {
        "colab": {
          "base_uri": "https://localhost:8080/"
        },
        "id": "MGWTaj2mkdth",
        "outputId": "6a037ba1-ca75-47ce-8ebd-97f87a595f1d"
      },
      "source": [
        "df_data.count()"
      ],
      "execution_count": 204,
      "outputs": [
        {
          "output_type": "execute_result",
          "data": {
            "text/plain": [
              "3000"
            ]
          },
          "metadata": {},
          "execution_count": 204
        }
      ]
    },
    {
      "cell_type": "code",
      "metadata": {
        "colab": {
          "base_uri": "https://localhost:8080/"
        },
        "id": "lMRdGkadkdxC",
        "outputId": "5a604cd7-b2e8-4472-a82a-7f8c85791370"
      },
      "source": [
        "df_data.printSchema()"
      ],
      "execution_count": 205,
      "outputs": [
        {
          "output_type": "stream",
          "name": "stdout",
          "text": [
            "root\n",
            " |-- battery_power: integer (nullable = true)\n",
            " |-- blue: integer (nullable = true)\n",
            " |-- clock_speed: double (nullable = true)\n",
            " |-- dual_sim: integer (nullable = true)\n",
            " |-- fc: integer (nullable = true)\n",
            " |-- four_g: integer (nullable = true)\n",
            " |-- int_memory: integer (nullable = true)\n",
            " |-- m_dep: double (nullable = true)\n",
            " |-- mobile_wt: integer (nullable = true)\n",
            " |-- n_cores: integer (nullable = true)\n",
            " |-- pc: integer (nullable = true)\n",
            " |-- px_height: integer (nullable = true)\n",
            " |-- px_width: integer (nullable = true)\n",
            " |-- ram: integer (nullable = true)\n",
            " |-- sc_h: integer (nullable = true)\n",
            " |-- sc_w: integer (nullable = true)\n",
            " |-- talk_time: integer (nullable = true)\n",
            " |-- three_g: integer (nullable = true)\n",
            " |-- touch_screen: integer (nullable = true)\n",
            " |-- wifi: integer (nullable = true)\n",
            "\n"
          ]
        }
      ]
    },
    {
      "cell_type": "code",
      "metadata": {
        "id": "IWgB1Godkdz_"
      },
      "source": [
        "# Добавляем новые колонки с соотношением сторон и плотностью пикселей\n",
        "\n",
        "# Оставляем только положительные значения \n",
        "df_data = df_data.select('*').where('sc_h > 0 and sc_w > 0 and px_height > 0 and px_width > 0')\n",
        "\n",
        "# Добавляем столбец с соотношением сторон\n",
        "df_data = df_data.withColumn('screen_ratio', F.round((F.col('sc_h')/F.col('sc_w')).cast(FloatType()), 2))\n",
        "\n",
        "# Создаём колонки с соотношением сторон и плотностью пикселей\n",
        "df_data = df_data.withColumn('ppi', F.round( \\\n",
        "                                            (F.sqrt((F.pow(F.col('px_width'), 2) + F.pow(F.col('px_height'), 2))) / \\\n",
        "                                            (F.sqrt(F.pow(F.col('sc_w'), 2) + F.pow(F.col('sc_h'), 2)) * 0.3937)) \\\n",
        "                                            .cast(FloatType()), 0))"
      ],
      "execution_count": 206,
      "outputs": []
    },
    {
      "cell_type": "code",
      "metadata": {
        "colab": {
          "base_uri": "https://localhost:8080/"
        },
        "id": "9op2rNZakd2x",
        "outputId": "f89b1f7a-853d-4bd8-d8c9-fd76a694a023"
      },
      "source": [
        "df_data.count()"
      ],
      "execution_count": 207,
      "outputs": [
        {
          "output_type": "execute_result",
          "data": {
            "text/plain": [
              "2705"
            ]
          },
          "metadata": {},
          "execution_count": 207
        }
      ]
    },
    {
      "cell_type": "code",
      "metadata": {
        "colab": {
          "base_uri": "https://localhost:8080/"
        },
        "id": "3Nn4dCuwk6bD",
        "outputId": "15387f8a-6121-452e-fe15-0e03744fac25"
      },
      "source": [
        "df_data.printSchema()"
      ],
      "execution_count": 208,
      "outputs": [
        {
          "output_type": "stream",
          "name": "stdout",
          "text": [
            "root\n",
            " |-- battery_power: integer (nullable = true)\n",
            " |-- blue: integer (nullable = true)\n",
            " |-- clock_speed: double (nullable = true)\n",
            " |-- dual_sim: integer (nullable = true)\n",
            " |-- fc: integer (nullable = true)\n",
            " |-- four_g: integer (nullable = true)\n",
            " |-- int_memory: integer (nullable = true)\n",
            " |-- m_dep: double (nullable = true)\n",
            " |-- mobile_wt: integer (nullable = true)\n",
            " |-- n_cores: integer (nullable = true)\n",
            " |-- pc: integer (nullable = true)\n",
            " |-- px_height: integer (nullable = true)\n",
            " |-- px_width: integer (nullable = true)\n",
            " |-- ram: integer (nullable = true)\n",
            " |-- sc_h: integer (nullable = true)\n",
            " |-- sc_w: integer (nullable = true)\n",
            " |-- talk_time: integer (nullable = true)\n",
            " |-- three_g: integer (nullable = true)\n",
            " |-- touch_screen: integer (nullable = true)\n",
            " |-- wifi: integer (nullable = true)\n",
            " |-- screen_ratio: float (nullable = true)\n",
            " |-- ppi: float (nullable = true)\n",
            "\n"
          ]
        }
      ]
    },
    {
      "cell_type": "code",
      "metadata": {
        "colab": {
          "base_uri": "https://localhost:8080/"
        },
        "id": "YU5EbAaXlBjN",
        "outputId": "19096a4a-53ae-402c-e7ac-4875e962e8fc"
      },
      "source": [
        "df_data.select('battery_power', 'sc_h', 'sc_w', 'screen_ratio', 'px_width', 'px_height', 'ppi').show(10)"
      ],
      "execution_count": 209,
      "outputs": [
        {
          "output_type": "stream",
          "name": "stdout",
          "text": [
            "+-------------+----+----+------------+--------+---------+-----+\n",
            "|battery_power|sc_h|sc_w|screen_ratio|px_width|px_height|  ppi|\n",
            "+-------------+----+----+------------+--------+---------+-----+\n",
            "|          842|   9|   7|        1.29|     756|       20|168.0|\n",
            "|         1021|  17|   3|        5.67|    1988|      905|321.0|\n",
            "|          563|  11|   2|         5.5|    1716|     1263|484.0|\n",
            "|          615|  16|   8|         2.0|    1786|     1216|307.0|\n",
            "|         1821|   8|   2|         4.0|    1212|     1208|527.0|\n",
            "|         1859|  17|   1|        17.0|    1654|     1004|289.0|\n",
            "|         1821|  13|   8|        1.63|    1018|      381|181.0|\n",
            "|         1954|  16|   3|        5.33|    1149|      512|196.0|\n",
            "|         1445|  17|   1|        17.0|     836|      386|137.0|\n",
            "|          509|  19|  10|         1.9|    1224|     1137|198.0|\n",
            "+-------------+----+----+------------+--------+---------+-----+\n",
            "only showing top 10 rows\n",
            "\n"
          ]
        }
      ]
    },
    {
      "cell_type": "code",
      "metadata": {
        "colab": {
          "base_uri": "https://localhost:8080/"
        },
        "id": "9tfV0fUglBmq",
        "outputId": "8f83546b-f383-45dd-b0ac-c79344e26cc8"
      },
      "source": [
        "# Данные по широкоформатным моделям\n",
        "df_data.select('screen_ratio') \\\n",
        "       .groupBy('screen_ratio').count() \\\n",
        "       .orderBy('screen_ratio').filter(F.col('screen_ratio') >= 1.77).show(10)"
      ],
      "execution_count": 210,
      "outputs": [
        {
          "output_type": "stream",
          "name": "stdout",
          "text": [
            "+------------+-----+\n",
            "|screen_ratio|count|\n",
            "+------------+-----+\n",
            "|        1.78|    8|\n",
            "|         1.8|   33|\n",
            "|        1.83|   13|\n",
            "|        1.86|   17|\n",
            "|        1.88|   15|\n",
            "|        1.89|   13|\n",
            "|         1.9|   15|\n",
            "|         2.0|  123|\n",
            "|        2.11|    9|\n",
            "|        2.13|   17|\n",
            "+------------+-----+\n",
            "only showing top 10 rows\n",
            "\n"
          ]
        }
      ]
    },
    {
      "cell_type": "code",
      "metadata": {
        "colab": {
          "base_uri": "https://localhost:8080/"
        },
        "id": "eLzk_O5wlBqA",
        "outputId": "6b7b20e1-94c4-4b8e-a837-f9838997bb28"
      },
      "source": [
        "# PPI в отсортированном виде\n",
        "df_data.select('ppi').groupBy('ppi').count().orderBy('ppi').show(10)"
      ],
      "execution_count": 211,
      "outputs": [
        {
          "output_type": "stream",
          "name": "stdout",
          "text": [
            "+----+-----+\n",
            "| ppi|count|\n",
            "+----+-----+\n",
            "|56.0|    1|\n",
            "|61.0|    3|\n",
            "|63.0|    1|\n",
            "|64.0|    1|\n",
            "|65.0|    1|\n",
            "|67.0|    2|\n",
            "|68.0|    1|\n",
            "|69.0|    1|\n",
            "|70.0|    1|\n",
            "|71.0|    1|\n",
            "+----+-----+\n",
            "only showing top 10 rows\n",
            "\n"
          ]
        }
      ]
    },
    {
      "cell_type": "markdown",
      "metadata": {
        "id": "78s_w7mol0Fk"
      },
      "source": [
        "### И сохранение"
      ]
    },
    {
      "cell_type": "markdown",
      "metadata": {
        "id": "bR5LFbtOl86N"
      },
      "source": [
        "Сохраните результат в csv sep=';', encoding='cp1251'\n",
        "с колонками id, плотность пикселей и временем разговора в формате \"1day 1hour 1minute\""
      ]
    },
    {
      "cell_type": "code",
      "metadata": {
        "id": "jWYZ6LWXk6h-"
      },
      "source": [
        "from pyspark.sql import Window\n",
        "\n",
        "# Добавляем столбец с id. Так как выводится в итоговый файл ppi, то решил к нему id привязать.\n",
        "window = Window.orderBy('ppi')\n",
        "df_data_final = df_data.withColumn('id', F.row_number().over(window))\n",
        "\n",
        "# Затем добавил столбец с временем разговора\n",
        "\n",
        "# В итоговый набор данных добавил поля id, ppi, talk_time, time (преобразованный согласно заданию talk_time)\n",
        "df_data_final = df_data_final.select('id', 'ppi', 'talk_time') \\\n",
        "                             .withColumn('time', F.concat(F.lit('1'), F.concat_ws(' 1', \\\n",
        "                                                                        (F.col('talk_time') /  24).cast('int'), \\\n",
        "                                                                        (F.col('talk_time') % 24), \\\n",
        "                                                                         F.lit('0'))))\n",
        "\n",
        "df_data_final.write.csv(path = './lesson2_result.csv', mode = 'overwrite', sep = ';', encoding = 'cp1251', header = True)"
      ],
      "execution_count": 212,
      "outputs": []
    },
    {
      "cell_type": "markdown",
      "metadata": {
        "id": "_nObq7JOmdY7"
      },
      "source": [
        "![image.png](data:image/png;base64,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)"
      ]
    },
    {
      "cell_type": "code",
      "metadata": {
        "colab": {
          "base_uri": "https://localhost:8080/"
        },
        "id": "NlR4gTQBkd5p",
        "outputId": "90ff3501-eb31-47ff-f5c3-737cb8843b0d"
      },
      "source": [
        "df_data_final.show(10)"
      ],
      "execution_count": 213,
      "outputs": [
        {
          "output_type": "stream",
          "name": "stdout",
          "text": [
            "+---+----+---------+---------+\n",
            "| id| ppi|talk_time|     time|\n",
            "+---+----+---------+---------+\n",
            "|  1|56.0|       18|10 118 10|\n",
            "|  2|61.0|       19|10 119 10|\n",
            "|  3|61.0|       15|10 115 10|\n",
            "|  4|61.0|       11|10 111 10|\n",
            "|  5|63.0|        4| 10 14 10|\n",
            "|  6|64.0|        3| 10 13 10|\n",
            "|  7|65.0|       12|10 112 10|\n",
            "|  8|67.0|        9| 10 19 10|\n",
            "|  9|67.0|       11|10 111 10|\n",
            "| 10|68.0|       16|10 116 10|\n",
            "+---+----+---------+---------+\n",
            "only showing top 10 rows\n",
            "\n"
          ]
        }
      ]
    },
    {
      "cell_type": "markdown",
      "metadata": {
        "id": "0yOjsuCDmoWV"
      },
      "source": [
        "# END"
      ]
    }
  ]
}