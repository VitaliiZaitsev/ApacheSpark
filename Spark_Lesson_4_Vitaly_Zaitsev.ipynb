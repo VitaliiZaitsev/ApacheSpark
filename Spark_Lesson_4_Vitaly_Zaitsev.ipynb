{
  "nbformat": 4,
  "nbformat_minor": 0,
  "metadata": {
    "colab": {
      "name": "Spark. Lesson 4. Vitaly Zaitsev.ipynb",
      "provenance": [],
      "collapsed_sections": [],
      "toc_visible": true,
      "include_colab_link": true
    },
    "kernelspec": {
      "name": "python3",
      "display_name": "Python 3"
    },
    "language_info": {
      "name": "python"
    }
  },
  "cells": [
    {
      "cell_type": "markdown",
      "metadata": {
        "id": "view-in-github",
        "colab_type": "text"
      },
      "source": [
        "<a href=\"https://colab.research.google.com/github/VitaliiZaitsev/ApacheSpark/blob/main/Spark_Lesson_4_Vitaly_Zaitsev.ipynb\" target=\"_parent\"><img src=\"https://colab.research.google.com/assets/colab-badge.svg\" alt=\"Open In Colab\"/></a>"
      ]
    },
    {
      "cell_type": "markdown",
      "metadata": {
        "id": "6W7u-73y5f5g"
      },
      "source": [
        "Здравствуйте.\n",
        "\n",
        "Spark умеет валидировать модели. Попробуем это сделать. Evaluation ипортируется следующим образом:\n",
        "\n",
        "\n",
        "```\n",
        "from pyspark.ml.evaluation import RegressionEvaluator, BinaryClassificationEvaluator\n",
        "```\n",
        "\n",
        "В частности [RegressionEvaluator](https://spark.apache.org/docs/latest/api/python/reference/api/pyspark.ml.evaluation.RegressionEvaluator.html#pyspark.ml.evaluation.RegressionEvaluator.metricName)\n",
        "\n",
        "# Задание\n",
        "Ниже обучается и оценивается модель. \n",
        "\n",
        "Нужно перевести этот в Pipeline (вам понадобится VectorAssembler), а затем рассчитать MAE (= Mean Absolute Error, Средний модуль отклонения) с помощью spark.\n",
        "\n",
        "P.S.\n",
        "В нотебуке скор считается через pandas и sklearn, сделайте это всё на spark + pipelines\n"
      ]
    },
    {
      "cell_type": "markdown",
      "metadata": {
        "id": "wKs1Oyz9Qnjb"
      },
      "source": [
        "## Подготовка датасета"
      ]
    },
    {
      "cell_type": "markdown",
      "metadata": {
        "id": "5-V9CkqCP4Hh"
      },
      "source": [
        "Предлагается к использованию Boston House Prices, Regression predictive modeling machine learning problem from end-to-end Python\n",
        "\n",
        "Описание: https://scikit-learn.org/stable/datasets/toy_dataset.html#boston-dataset\n",
        "\n",
        "Ссылка на скачивание: https://www.kaggle.com/vikrishnan/boston-house-prices \n",
        "\n",
        "Оказалось, что явно скачивать датасет НЕ надо, пользуемся функцией sklearn.datasets.load_boston() В будущем функция будет выведена из использования, потребуется переделать работу с данными, см https://scikit-learn.org/stable/modules/generated/sklearn.datasets.load_boston.html\n"
      ]
    },
    {
      "cell_type": "markdown",
      "metadata": {
        "id": "SbVEjLMhQvea"
      },
      "source": [
        "## Расчёт с помощью pandas и sklearn"
      ]
    },
    {
      "cell_type": "markdown",
      "metadata": {
        "id": "4UutxlM3RIyy"
      },
      "source": [
        "### Установка пакетов"
      ]
    },
    {
      "cell_type": "code",
      "metadata": {
        "colab": {
          "base_uri": "https://localhost:8080/"
        },
        "id": "73l1K6bqRgh7",
        "outputId": "1a0aa009-fddf-4d87-caf1-cf8db4ef9c27"
      },
      "source": [
        "pip install pyspark"
      ],
      "execution_count": 5,
      "outputs": [
        {
          "output_type": "stream",
          "name": "stdout",
          "text": [
            "Collecting pyspark\n",
            "  Downloading pyspark-3.2.0.tar.gz (281.3 MB)\n",
            "\u001b[K     |████████████████████████████████| 281.3 MB 38 kB/s \n",
            "\u001b[?25hCollecting py4j==0.10.9.2\n",
            "  Downloading py4j-0.10.9.2-py2.py3-none-any.whl (198 kB)\n",
            "\u001b[K     |████████████████████████████████| 198 kB 36.3 MB/s \n",
            "\u001b[?25hBuilding wheels for collected packages: pyspark\n",
            "  Building wheel for pyspark (setup.py) ... \u001b[?25l\u001b[?25hdone\n",
            "  Created wheel for pyspark: filename=pyspark-3.2.0-py2.py3-none-any.whl size=281805912 sha256=19cba7192d59fc81c418f6bc410f4cf9f9804a275fb917a6403692737a80572d\n",
            "  Stored in directory: /root/.cache/pip/wheels/0b/de/d2/9be5d59d7331c6c2a7c1b6d1a4f463ce107332b1ecd4e80718\n",
            "Successfully built pyspark\n",
            "Installing collected packages: py4j, pyspark\n",
            "Successfully installed py4j-0.10.9.2 pyspark-3.2.0\n"
          ]
        }
      ]
    },
    {
      "cell_type": "markdown",
      "metadata": {
        "id": "wqdr9QpHR0IQ"
      },
      "source": [
        "### Импорт модулей"
      ]
    },
    {
      "cell_type": "code",
      "metadata": {
        "id": "6kfP1trmQdrF"
      },
      "source": [
        "from pyspark.ml.evaluation import RegressionEvaluator, BinaryClassificationEvaluator"
      ],
      "execution_count": 6,
      "outputs": []
    },
    {
      "cell_type": "code",
      "metadata": {
        "id": "0pyWXWKVSEnI"
      },
      "source": [
        "from pyspark.sql import SparkSession\n",
        "from pyspark.ml.linalg import Vectors, VectorUDT\n",
        "from pyspark.sql import functions as F\n",
        "from pyspark.sql.types import *\n",
        "from pyspark.ml.regression import RandomForestRegressor"
      ],
      "execution_count": 7,
      "outputs": []
    },
    {
      "cell_type": "code",
      "metadata": {
        "id": "sW4oDIDPw5Dd"
      },
      "source": [
        "import pandas as pd\n",
        "from sklearn.datasets import load_diabetes, load_iris, load_boston\n",
        "from sklearn.metrics import mean_absolute_error"
      ],
      "execution_count": 8,
      "outputs": []
    },
    {
      "cell_type": "code",
      "metadata": {
        "colab": {
          "base_uri": "https://localhost:8080/"
        },
        "id": "LtZ03B8IVcjQ",
        "outputId": "697ec3b9-f45d-4b24-a4f9-f3a2d6552707"
      },
      "source": [
        "# Узнаем версию Pandas\n",
        "print(pd.__version__)"
      ],
      "execution_count": 19,
      "outputs": [
        {
          "output_type": "stream",
          "name": "stdout",
          "text": [
            "1.1.5\n"
          ]
        }
      ]
    },
    {
      "cell_type": "markdown",
      "metadata": {
        "id": "skXEDWxuR4ZV"
      },
      "source": [
        "### Spark context"
      ]
    },
    {
      "cell_type": "code",
      "metadata": {
        "id": "G0j63iEtR6g3"
      },
      "source": [
        "spark = SparkSession.builder\\\n",
        "    .master(\"local[4]\")\\\n",
        "    .appName(\"Lesson_4\")\\\n",
        "    .config(\"spark.executor.instances\",2)\\\n",
        "    .config(\"spark.executor.memory\",'2g')\\\n",
        "    .config(\"spark.executor.cores\",1)\\\n",
        "    .getOrCreate()\n",
        "sc = spark.sparkContext"
      ],
      "execution_count": 9,
      "outputs": []
    },
    {
      "cell_type": "code",
      "metadata": {
        "colab": {
          "base_uri": "https://localhost:8080/",
          "height": 198
        },
        "id": "Y3Ac1eZtTlp4",
        "outputId": "f74edd96-89a7-42aa-a87d-59bacdfc5e04"
      },
      "source": [
        "sc"
      ],
      "execution_count": 11,
      "outputs": [
        {
          "output_type": "execute_result",
          "data": {
            "text/html": [
              "\n",
              "        <div>\n",
              "            <p><b>SparkContext</b></p>\n",
              "\n",
              "            <p><a href=\"http://d0435d16a732:4040\">Spark UI</a></p>\n",
              "\n",
              "            <dl>\n",
              "              <dt>Version</dt>\n",
              "                <dd><code>v3.2.0</code></dd>\n",
              "              <dt>Master</dt>\n",
              "                <dd><code>local[4]</code></dd>\n",
              "              <dt>AppName</dt>\n",
              "                <dd><code>Lesson_4</code></dd>\n",
              "            </dl>\n",
              "        </div>\n",
              "        "
            ],
            "text/plain": [
              "<SparkContext master=local[4] appName=Lesson_4>"
            ]
          },
          "metadata": {},
          "execution_count": 11
        }
      ]
    },
    {
      "cell_type": "markdown",
      "metadata": {
        "id": "KgotPRW5SVgL"
      },
      "source": [
        "### Загрузка датасета"
      ]
    },
    {
      "cell_type": "code",
      "metadata": {
        "id": "9wpYw5zUxBzv",
        "colab": {
          "base_uri": "https://localhost:8080/"
        },
        "outputId": "89655f06-d500-4107-acc1-9603f599f801"
      },
      "source": [
        "# Оказалось, что эта функция load_boston() выводится из обращения по этическим мотивам (https://scikit-learn.org/stable/modules/generated/sklearn.datasets.load_boston.html)\n",
        "# Пока оставляем код as-is\n",
        "data = load_boston()"
      ],
      "execution_count": 13,
      "outputs": [
        {
          "output_type": "stream",
          "name": "stderr",
          "text": [
            "/usr/local/lib/python3.7/dist-packages/sklearn/utils/deprecation.py:87: FutureWarning: Function load_boston is deprecated; `load_boston` is deprecated in 1.0 and will be removed in 1.2.\n",
            "\n",
            "    The Boston housing prices dataset has an ethical problem. You can refer to\n",
            "    the documentation of this function for further details.\n",
            "\n",
            "    The scikit-learn maintainers therefore strongly discourage the use of this\n",
            "    dataset unless the purpose of the code is to study and educate about\n",
            "    ethical issues in data science and machine learning.\n",
            "\n",
            "    In this special case, you can fetch the dataset from the original\n",
            "    source::\n",
            "\n",
            "        import pandas as pd\n",
            "        import numpy as np\n",
            "\n",
            "\n",
            "        data_url = \"http://lib.stat.cmu.edu/datasets/boston\"\n",
            "        raw_df = pd.read_csv(data_url, sep=\"\\s+\", skiprows=22, header=None)\n",
            "        data = np.hstack([raw_df.values[::2, :], raw_df.values[1::2, :2]])\n",
            "        target = raw_df.values[1::2, 2]\n",
            "\n",
            "    Alternative datasets include the California housing dataset (i.e.\n",
            "    :func:`~sklearn.datasets.fetch_california_housing`) and the Ames housing\n",
            "    dataset. You can load the datasets as follows::\n",
            "\n",
            "        from sklearn.datasets import fetch_california_housing\n",
            "        housing = fetch_california_housing()\n",
            "\n",
            "    for the California housing dataset and::\n",
            "\n",
            "        from sklearn.datasets import fetch_openml\n",
            "        housing = fetch_openml(name=\"house_prices\", as_frame=True)\n",
            "\n",
            "    for the Ames housing dataset.\n",
            "    \n",
            "  warnings.warn(msg, category=FutureWarning)\n"
          ]
        }
      ]
    },
    {
      "cell_type": "code",
      "metadata": {
        "id": "BQTq1Qn2T-5j"
      },
      "source": [
        "dataset = pd.DataFrame(data['data'], columns=data['feature_names'])\n",
        "dataset['target'] = data['target']"
      ],
      "execution_count": 16,
      "outputs": []
    },
    {
      "cell_type": "code",
      "metadata": {
        "colab": {
          "base_uri": "https://localhost:8080/",
          "height": 424
        },
        "id": "AI3Y1_AEU11p",
        "outputId": "d442247f-17d4-48a8-d75e-d062567b8c42"
      },
      "source": [
        "# Посмотрим результат\n",
        "dataset"
      ],
      "execution_count": 23,
      "outputs": [
        {
          "output_type": "execute_result",
          "data": {
            "text/html": [
              "<div>\n",
              "<style scoped>\n",
              "    .dataframe tbody tr th:only-of-type {\n",
              "        vertical-align: middle;\n",
              "    }\n",
              "\n",
              "    .dataframe tbody tr th {\n",
              "        vertical-align: top;\n",
              "    }\n",
              "\n",
              "    .dataframe thead th {\n",
              "        text-align: right;\n",
              "    }\n",
              "</style>\n",
              "<table border=\"1\" class=\"dataframe\">\n",
              "  <thead>\n",
              "    <tr style=\"text-align: right;\">\n",
              "      <th></th>\n",
              "      <th>CRIM</th>\n",
              "      <th>ZN</th>\n",
              "      <th>INDUS</th>\n",
              "      <th>CHAS</th>\n",
              "      <th>NOX</th>\n",
              "      <th>RM</th>\n",
              "      <th>AGE</th>\n",
              "      <th>DIS</th>\n",
              "      <th>RAD</th>\n",
              "      <th>TAX</th>\n",
              "      <th>PTRATIO</th>\n",
              "      <th>B</th>\n",
              "      <th>LSTAT</th>\n",
              "      <th>target</th>\n",
              "    </tr>\n",
              "  </thead>\n",
              "  <tbody>\n",
              "    <tr>\n",
              "      <th>0</th>\n",
              "      <td>0.00632</td>\n",
              "      <td>18.0</td>\n",
              "      <td>2.31</td>\n",
              "      <td>0.0</td>\n",
              "      <td>0.538</td>\n",
              "      <td>6.575</td>\n",
              "      <td>65.2</td>\n",
              "      <td>4.0900</td>\n",
              "      <td>1.0</td>\n",
              "      <td>296.0</td>\n",
              "      <td>15.3</td>\n",
              "      <td>396.90</td>\n",
              "      <td>4.98</td>\n",
              "      <td>24.0</td>\n",
              "    </tr>\n",
              "    <tr>\n",
              "      <th>1</th>\n",
              "      <td>0.02731</td>\n",
              "      <td>0.0</td>\n",
              "      <td>7.07</td>\n",
              "      <td>0.0</td>\n",
              "      <td>0.469</td>\n",
              "      <td>6.421</td>\n",
              "      <td>78.9</td>\n",
              "      <td>4.9671</td>\n",
              "      <td>2.0</td>\n",
              "      <td>242.0</td>\n",
              "      <td>17.8</td>\n",
              "      <td>396.90</td>\n",
              "      <td>9.14</td>\n",
              "      <td>21.6</td>\n",
              "    </tr>\n",
              "    <tr>\n",
              "      <th>2</th>\n",
              "      <td>0.02729</td>\n",
              "      <td>0.0</td>\n",
              "      <td>7.07</td>\n",
              "      <td>0.0</td>\n",
              "      <td>0.469</td>\n",
              "      <td>7.185</td>\n",
              "      <td>61.1</td>\n",
              "      <td>4.9671</td>\n",
              "      <td>2.0</td>\n",
              "      <td>242.0</td>\n",
              "      <td>17.8</td>\n",
              "      <td>392.83</td>\n",
              "      <td>4.03</td>\n",
              "      <td>34.7</td>\n",
              "    </tr>\n",
              "    <tr>\n",
              "      <th>3</th>\n",
              "      <td>0.03237</td>\n",
              "      <td>0.0</td>\n",
              "      <td>2.18</td>\n",
              "      <td>0.0</td>\n",
              "      <td>0.458</td>\n",
              "      <td>6.998</td>\n",
              "      <td>45.8</td>\n",
              "      <td>6.0622</td>\n",
              "      <td>3.0</td>\n",
              "      <td>222.0</td>\n",
              "      <td>18.7</td>\n",
              "      <td>394.63</td>\n",
              "      <td>2.94</td>\n",
              "      <td>33.4</td>\n",
              "    </tr>\n",
              "    <tr>\n",
              "      <th>4</th>\n",
              "      <td>0.06905</td>\n",
              "      <td>0.0</td>\n",
              "      <td>2.18</td>\n",
              "      <td>0.0</td>\n",
              "      <td>0.458</td>\n",
              "      <td>7.147</td>\n",
              "      <td>54.2</td>\n",
              "      <td>6.0622</td>\n",
              "      <td>3.0</td>\n",
              "      <td>222.0</td>\n",
              "      <td>18.7</td>\n",
              "      <td>396.90</td>\n",
              "      <td>5.33</td>\n",
              "      <td>36.2</td>\n",
              "    </tr>\n",
              "    <tr>\n",
              "      <th>...</th>\n",
              "      <td>...</td>\n",
              "      <td>...</td>\n",
              "      <td>...</td>\n",
              "      <td>...</td>\n",
              "      <td>...</td>\n",
              "      <td>...</td>\n",
              "      <td>...</td>\n",
              "      <td>...</td>\n",
              "      <td>...</td>\n",
              "      <td>...</td>\n",
              "      <td>...</td>\n",
              "      <td>...</td>\n",
              "      <td>...</td>\n",
              "      <td>...</td>\n",
              "    </tr>\n",
              "    <tr>\n",
              "      <th>501</th>\n",
              "      <td>0.06263</td>\n",
              "      <td>0.0</td>\n",
              "      <td>11.93</td>\n",
              "      <td>0.0</td>\n",
              "      <td>0.573</td>\n",
              "      <td>6.593</td>\n",
              "      <td>69.1</td>\n",
              "      <td>2.4786</td>\n",
              "      <td>1.0</td>\n",
              "      <td>273.0</td>\n",
              "      <td>21.0</td>\n",
              "      <td>391.99</td>\n",
              "      <td>9.67</td>\n",
              "      <td>22.4</td>\n",
              "    </tr>\n",
              "    <tr>\n",
              "      <th>502</th>\n",
              "      <td>0.04527</td>\n",
              "      <td>0.0</td>\n",
              "      <td>11.93</td>\n",
              "      <td>0.0</td>\n",
              "      <td>0.573</td>\n",
              "      <td>6.120</td>\n",
              "      <td>76.7</td>\n",
              "      <td>2.2875</td>\n",
              "      <td>1.0</td>\n",
              "      <td>273.0</td>\n",
              "      <td>21.0</td>\n",
              "      <td>396.90</td>\n",
              "      <td>9.08</td>\n",
              "      <td>20.6</td>\n",
              "    </tr>\n",
              "    <tr>\n",
              "      <th>503</th>\n",
              "      <td>0.06076</td>\n",
              "      <td>0.0</td>\n",
              "      <td>11.93</td>\n",
              "      <td>0.0</td>\n",
              "      <td>0.573</td>\n",
              "      <td>6.976</td>\n",
              "      <td>91.0</td>\n",
              "      <td>2.1675</td>\n",
              "      <td>1.0</td>\n",
              "      <td>273.0</td>\n",
              "      <td>21.0</td>\n",
              "      <td>396.90</td>\n",
              "      <td>5.64</td>\n",
              "      <td>23.9</td>\n",
              "    </tr>\n",
              "    <tr>\n",
              "      <th>504</th>\n",
              "      <td>0.10959</td>\n",
              "      <td>0.0</td>\n",
              "      <td>11.93</td>\n",
              "      <td>0.0</td>\n",
              "      <td>0.573</td>\n",
              "      <td>6.794</td>\n",
              "      <td>89.3</td>\n",
              "      <td>2.3889</td>\n",
              "      <td>1.0</td>\n",
              "      <td>273.0</td>\n",
              "      <td>21.0</td>\n",
              "      <td>393.45</td>\n",
              "      <td>6.48</td>\n",
              "      <td>22.0</td>\n",
              "    </tr>\n",
              "    <tr>\n",
              "      <th>505</th>\n",
              "      <td>0.04741</td>\n",
              "      <td>0.0</td>\n",
              "      <td>11.93</td>\n",
              "      <td>0.0</td>\n",
              "      <td>0.573</td>\n",
              "      <td>6.030</td>\n",
              "      <td>80.8</td>\n",
              "      <td>2.5050</td>\n",
              "      <td>1.0</td>\n",
              "      <td>273.0</td>\n",
              "      <td>21.0</td>\n",
              "      <td>396.90</td>\n",
              "      <td>7.88</td>\n",
              "      <td>11.9</td>\n",
              "    </tr>\n",
              "  </tbody>\n",
              "</table>\n",
              "<p>506 rows × 14 columns</p>\n",
              "</div>"
            ],
            "text/plain": [
              "        CRIM    ZN  INDUS  CHAS    NOX  ...    TAX  PTRATIO       B  LSTAT  target\n",
              "0    0.00632  18.0   2.31   0.0  0.538  ...  296.0     15.3  396.90   4.98    24.0\n",
              "1    0.02731   0.0   7.07   0.0  0.469  ...  242.0     17.8  396.90   9.14    21.6\n",
              "2    0.02729   0.0   7.07   0.0  0.469  ...  242.0     17.8  392.83   4.03    34.7\n",
              "3    0.03237   0.0   2.18   0.0  0.458  ...  222.0     18.7  394.63   2.94    33.4\n",
              "4    0.06905   0.0   2.18   0.0  0.458  ...  222.0     18.7  396.90   5.33    36.2\n",
              "..       ...   ...    ...   ...    ...  ...    ...      ...     ...    ...     ...\n",
              "501  0.06263   0.0  11.93   0.0  0.573  ...  273.0     21.0  391.99   9.67    22.4\n",
              "502  0.04527   0.0  11.93   0.0  0.573  ...  273.0     21.0  396.90   9.08    20.6\n",
              "503  0.06076   0.0  11.93   0.0  0.573  ...  273.0     21.0  396.90   5.64    23.9\n",
              "504  0.10959   0.0  11.93   0.0  0.573  ...  273.0     21.0  393.45   6.48    22.0\n",
              "505  0.04741   0.0  11.93   0.0  0.573  ...  273.0     21.0  396.90   7.88    11.9\n",
              "\n",
              "[506 rows x 14 columns]"
            ]
          },
          "metadata": {},
          "execution_count": 23
        }
      ]
    },
    {
      "cell_type": "code",
      "metadata": {
        "id": "4528TaR8UX9V"
      },
      "source": [
        "cols_to_vector = F.udf(lambda l: Vectors.dense(l), VectorUDT())\n",
        "spark_dataset = spark.createDataFrame(dataset).select(cols_to_vector(F.array(*data['feature_names'])).alias('features'), 'target').cache()"
      ],
      "execution_count": 27,
      "outputs": []
    },
    {
      "cell_type": "code",
      "metadata": {
        "colab": {
          "base_uri": "https://localhost:8080/"
        },
        "id": "kzxqDJiXTvsC",
        "outputId": "6d9cafb3-e9b6-464e-cbbb-19cf627c45e3"
      },
      "source": [
        "# Посмотрим что получилось\n",
        "spark_dataset.show(3)"
      ],
      "execution_count": 28,
      "outputs": [
        {
          "output_type": "stream",
          "name": "stdout",
          "text": [
            "+--------------------+------+\n",
            "|            features|target|\n",
            "+--------------------+------+\n",
            "|[0.00632,18.0,2.3...|  24.0|\n",
            "|[0.02731,0.0,7.07...|  21.6|\n",
            "|[0.02729,0.0,7.07...|  34.7|\n",
            "+--------------------+------+\n",
            "only showing top 3 rows\n",
            "\n"
          ]
        }
      ]
    },
    {
      "cell_type": "markdown",
      "metadata": {
        "id": "PSx2GSBVaYrx"
      },
      "source": [
        "### Расщепление-тренировка"
      ]
    },
    {
      "cell_type": "code",
      "metadata": {
        "id": "HYdMGKWaxqsI"
      },
      "source": [
        "# Расщепляем датасет на два\n",
        "train, test = spark_dataset.randomSplit([0.7, 0.3])\n",
        "\n",
        "lr = RandomForestRegressor(labelCol='target')\n",
        "lr = lr.fit(train)\n",
        "train_predictions = lr.transform(train)\n",
        "test_predictions = lr.transform(test)"
      ],
      "execution_count": 39,
      "outputs": []
    },
    {
      "cell_type": "markdown",
      "metadata": {
        "id": "U9z4gqh0afQt"
      },
      "source": [
        "### Расчёт Mean Absolute Error (средний модуль отклонения)"
      ]
    },
    {
      "cell_type": "code",
      "metadata": {
        "colab": {
          "base_uri": "https://localhost:8080/"
        },
        "id": "tUBg1pAR3dpT",
        "outputId": "3a87ca5d-c1ae-4c27-a156-ca7fa959a274"
      },
      "source": [
        "pandas_train_predictions = train_predictions.toPandas()\n",
        "pandas_test_predictions = test_predictions.toPandas()\n",
        "\n",
        "# Сам расчёт MAE (= Mean Absolute Error, Средний модуль отклонения)\n",
        "# https://scikit-learn.org/stable/modules/generated/sklearn.metrics.mean_absolute_error.html\n",
        "# from sklearn.metrics import mean_absolute_error\n",
        "# y_true = [3, -0.5, 2, 7]\n",
        "# y_pred = [2.5, 0.0, 2, 8]\n",
        "# mean_absolute_error(y_true, y_pred)\n",
        "# 0.5\n",
        "\n",
        "print(f'''\n",
        "    Scores:: \n",
        "        train: {mean_absolute_error(\n",
        "            pandas_train_predictions.target, \n",
        "            pandas_train_predictions.prediction)}, \n",
        "        test: {mean_absolute_error(\n",
        "            pandas_test_predictions.target, \n",
        "            pandas_test_predictions.prediction)}\n",
        "    ''')"
      ],
      "execution_count": 40,
      "outputs": [
        {
          "output_type": "stream",
          "name": "stdout",
          "text": [
            "\n",
            "    Scores:: \n",
            "        train: 1.919364971777765, \n",
            "        test: 2.451392179008486\n",
            "    \n"
          ]
        }
      ]
    },
    {
      "cell_type": "markdown",
      "metadata": {
        "id": "c9o9nM-qYphG"
      },
      "source": [
        "Получилось, что для train выборки средний модуль отклонения = 1.91, а для test выборки он больше и = 2.45, при этом размеры выборок были заданы вот так \n",
        "train, test = spark_dataset.randomSplit([0.7, 0.3])\n",
        "\n",
        "В общем результаты сравнимы и понятны\n",
        "\n",
        "\n",
        "![image.png](data:image/png;base64,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)"
      ]
    },
    {
      "cell_type": "markdown",
      "metadata": {
        "id": "-L2UvKz8aJ8j"
      },
      "source": [
        "## Расчёт с помощью spark + pipelines"
      ]
    },
    {
      "cell_type": "markdown",
      "metadata": {
        "id": "BJGMA5zOc4Xk"
      },
      "source": [
        "### Импорт модулей"
      ]
    },
    {
      "cell_type": "code",
      "metadata": {
        "id": "iDXyXHRm5hxL"
      },
      "source": [
        "from pyspark.ml import Pipeline\n",
        "from pyspark.ml.classification import LogisticRegression\n",
        "from pyspark.ml.feature import VectorAssembler"
      ],
      "execution_count": 41,
      "outputs": []
    },
    {
      "cell_type": "markdown",
      "metadata": {
        "id": "EGceamQwepai"
      },
      "source": [
        "### Загрузка датасета"
      ]
    },
    {
      "cell_type": "code",
      "metadata": {
        "colab": {
          "base_uri": "https://localhost:8080/"
        },
        "id": "Q4KeBvtTc59E",
        "outputId": "f20004e2-d022-4924-9aba-726f721116b2"
      },
      "source": [
        "# Всё тот же Бостон набор данных\n",
        "data = load_boston()\n",
        "dataset = pd.DataFrame(data['data'], columns=data['feature_names'])\n",
        "dataset['target'] = data['target']"
      ],
      "execution_count": 42,
      "outputs": [
        {
          "output_type": "stream",
          "name": "stderr",
          "text": [
            "/usr/local/lib/python3.7/dist-packages/sklearn/utils/deprecation.py:87: FutureWarning: Function load_boston is deprecated; `load_boston` is deprecated in 1.0 and will be removed in 1.2.\n",
            "\n",
            "    The Boston housing prices dataset has an ethical problem. You can refer to\n",
            "    the documentation of this function for further details.\n",
            "\n",
            "    The scikit-learn maintainers therefore strongly discourage the use of this\n",
            "    dataset unless the purpose of the code is to study and educate about\n",
            "    ethical issues in data science and machine learning.\n",
            "\n",
            "    In this special case, you can fetch the dataset from the original\n",
            "    source::\n",
            "\n",
            "        import pandas as pd\n",
            "        import numpy as np\n",
            "\n",
            "\n",
            "        data_url = \"http://lib.stat.cmu.edu/datasets/boston\"\n",
            "        raw_df = pd.read_csv(data_url, sep=\"\\s+\", skiprows=22, header=None)\n",
            "        data = np.hstack([raw_df.values[::2, :], raw_df.values[1::2, :2]])\n",
            "        target = raw_df.values[1::2, 2]\n",
            "\n",
            "    Alternative datasets include the California housing dataset (i.e.\n",
            "    :func:`~sklearn.datasets.fetch_california_housing`) and the Ames housing\n",
            "    dataset. You can load the datasets as follows::\n",
            "\n",
            "        from sklearn.datasets import fetch_california_housing\n",
            "        housing = fetch_california_housing()\n",
            "\n",
            "    for the California housing dataset and::\n",
            "\n",
            "        from sklearn.datasets import fetch_openml\n",
            "        housing = fetch_openml(name=\"house_prices\", as_frame=True)\n",
            "\n",
            "    for the Ames housing dataset.\n",
            "    \n",
            "  warnings.warn(msg, category=FutureWarning)\n"
          ]
        }
      ]
    },
    {
      "cell_type": "code",
      "metadata": {
        "id": "Xtf_XpInc6Ae"
      },
      "source": [
        "# Формируем spark датасет\n",
        "spark_dataset_for_linear_regression = spark.createDataFrame(dataset)"
      ],
      "execution_count": 44,
      "outputs": []
    },
    {
      "cell_type": "code",
      "metadata": {
        "colab": {
          "base_uri": "https://localhost:8080/"
        },
        "id": "9qke7OdIc6Dp",
        "outputId": "30626de8-4b2b-43ce-af57-5266e96b73c4"
      },
      "source": [
        "# Посмотрим схему\n",
        "spark_dataset_for_linear_regression.printSchema()"
      ],
      "execution_count": 47,
      "outputs": [
        {
          "output_type": "stream",
          "name": "stdout",
          "text": [
            "root\n",
            " |-- CRIM: double (nullable = true)\n",
            " |-- ZN: double (nullable = true)\n",
            " |-- INDUS: double (nullable = true)\n",
            " |-- CHAS: double (nullable = true)\n",
            " |-- NOX: double (nullable = true)\n",
            " |-- RM: double (nullable = true)\n",
            " |-- AGE: double (nullable = true)\n",
            " |-- DIS: double (nullable = true)\n",
            " |-- RAD: double (nullable = true)\n",
            " |-- TAX: double (nullable = true)\n",
            " |-- PTRATIO: double (nullable = true)\n",
            " |-- B: double (nullable = true)\n",
            " |-- LSTAT: double (nullable = true)\n",
            " |-- target: double (nullable = true)\n",
            "\n"
          ]
        }
      ]
    },
    {
      "cell_type": "code",
      "metadata": {
        "colab": {
          "base_uri": "https://localhost:8080/"
        },
        "id": "-b_YLpkQdt2C",
        "outputId": "20d46580-11b9-4ef4-dc39-6b418ebbea47"
      },
      "source": [
        "# И данные\n",
        "spark_dataset_for_linear_regression.show(3)"
      ],
      "execution_count": 48,
      "outputs": [
        {
          "output_type": "stream",
          "name": "stdout",
          "text": [
            "+-------+----+-----+----+-----+-----+----+------+---+-----+-------+------+-----+------+\n",
            "|   CRIM|  ZN|INDUS|CHAS|  NOX|   RM| AGE|   DIS|RAD|  TAX|PTRATIO|     B|LSTAT|target|\n",
            "+-------+----+-----+----+-----+-----+----+------+---+-----+-------+------+-----+------+\n",
            "|0.00632|18.0| 2.31| 0.0|0.538|6.575|65.2|  4.09|1.0|296.0|   15.3| 396.9| 4.98|  24.0|\n",
            "|0.02731| 0.0| 7.07| 0.0|0.469|6.421|78.9|4.9671|2.0|242.0|   17.8| 396.9| 9.14|  21.6|\n",
            "|0.02729| 0.0| 7.07| 0.0|0.469|7.185|61.1|4.9671|2.0|242.0|   17.8|392.83| 4.03|  34.7|\n",
            "+-------+----+-----+----+-----+-----+----+------+---+-----+-------+------+-----+------+\n",
            "only showing top 3 rows\n",
            "\n"
          ]
        }
      ]
    },
    {
      "cell_type": "code",
      "metadata": {
        "id": "_QInMxFaeENz"
      },
      "source": [
        "# Магия векторизации\n",
        "data_v = VectorAssembler(\n",
        "    inputCols=[\"CRIM\", \"ZN\", \"INDUS\", \"CHAS\", \"NOX\", \"RM\", \"AGE\", \"DIS\", \"RAD\", \"TAX\", \"PTRATIO\", \"B\", \"LSTAT\"],\n",
        "    outputCol=\"features\")\n",
        "out_data = data_v.transform(spark_dataset_for_linear_regression).select('features', 'target')"
      ],
      "execution_count": 50,
      "outputs": []
    },
    {
      "cell_type": "markdown",
      "metadata": {
        "id": "X1Cd65ZMeybA"
      },
      "source": [
        "### Расщепление-тренировка"
      ]
    },
    {
      "cell_type": "code",
      "metadata": {
        "id": "bfFuzbr2eUJL"
      },
      "source": [
        "# Снова расщепляем датасет на два, коэффициенты те же: 0,7 и 0,3\n",
        "(train, test) = spark_dataset_for_linear_regression.randomSplit([0.7, 0.3])\n",
        "\n",
        "lr = RandomForestRegressor(featuresCol='features',labelCol='target')"
      ],
      "execution_count": 59,
      "outputs": []
    },
    {
      "cell_type": "code",
      "metadata": {
        "colab": {
          "base_uri": "https://localhost:8080/"
        },
        "id": "mql20WvlfIew",
        "outputId": "516f3ddf-036d-4593-f8a2-786aba46ca42"
      },
      "source": [
        "train.count()"
      ],
      "execution_count": 60,
      "outputs": [
        {
          "output_type": "execute_result",
          "data": {
            "text/plain": [
              "339"
            ]
          },
          "metadata": {},
          "execution_count": 60
        }
      ]
    },
    {
      "cell_type": "code",
      "metadata": {
        "colab": {
          "base_uri": "https://localhost:8080/"
        },
        "id": "820-er-Ye9He",
        "outputId": "61750898-35ea-4d7b-87b7-1f9087d58f15"
      },
      "source": [
        "train.show(3)"
      ],
      "execution_count": 61,
      "outputs": [
        {
          "output_type": "stream",
          "name": "stdout",
          "text": [
            "+-------+-----+-----+----+-----+-----+----+------+---+-----+-------+------+-----+------+\n",
            "|   CRIM|   ZN|INDUS|CHAS|  NOX|   RM| AGE|   DIS|RAD|  TAX|PTRATIO|     B|LSTAT|target|\n",
            "+-------+-----+-----+----+-----+-----+----+------+---+-----+-------+------+-----+------+\n",
            "|0.01311| 90.0| 1.22| 0.0|0.403|7.249|21.9|8.6966|5.0|226.0|   17.9|395.93| 4.81|  35.4|\n",
            "| 0.0136| 75.0|  4.0| 0.0| 0.41|5.888|47.6|7.3197|3.0|469.0|   21.1| 396.9| 14.8|  18.9|\n",
            "|0.01432|100.0| 1.32| 0.0|0.411|6.816|40.5|8.3248|5.0|256.0|   15.1| 392.9| 3.95|  31.6|\n",
            "+-------+-----+-----+----+-----+-----+----+------+---+-----+-------+------+-----+------+\n",
            "only showing top 3 rows\n",
            "\n"
          ]
        }
      ]
    },
    {
      "cell_type": "code",
      "metadata": {
        "colab": {
          "base_uri": "https://localhost:8080/"
        },
        "id": "Tt21ZoCFfMzF",
        "outputId": "dd7df42c-771e-465c-d1d5-b6eaf9fda8ec"
      },
      "source": [
        "test.count()"
      ],
      "execution_count": 62,
      "outputs": [
        {
          "output_type": "execute_result",
          "data": {
            "text/plain": [
              "167"
            ]
          },
          "metadata": {},
          "execution_count": 62
        }
      ]
    },
    {
      "cell_type": "code",
      "metadata": {
        "colab": {
          "base_uri": "https://localhost:8080/"
        },
        "id": "6IfRLHSQe9Kk",
        "outputId": "55e11028-2f19-4529-8568-e93e18744d09"
      },
      "source": [
        "test.show(3)"
      ],
      "execution_count": 63,
      "outputs": [
        {
          "output_type": "stream",
          "name": "stdout",
          "text": [
            "+-------+----+-----+----+-----+-----+----+------+---+-----+-------+------+-----+------+\n",
            "|   CRIM|  ZN|INDUS|CHAS|  NOX|   RM| AGE|   DIS|RAD|  TAX|PTRATIO|     B|LSTAT|target|\n",
            "+-------+----+-----+----+-----+-----+----+------+---+-----+-------+------+-----+------+\n",
            "|0.00632|18.0| 2.31| 0.0|0.538|6.575|65.2|  4.09|1.0|296.0|   15.3| 396.9| 4.98|  24.0|\n",
            "|0.02055|85.0| 0.74| 0.0| 0.41|6.383|35.7|9.1876|2.0|313.0|   17.3| 396.9| 5.77|  24.7|\n",
            "|0.02729| 0.0| 7.07| 0.0|0.469|7.185|61.1|4.9671|2.0|242.0|   17.8|392.83| 4.03|  34.7|\n",
            "+-------+----+-----+----+-----+-----+----+------+---+-----+-------+------+-----+------+\n",
            "only showing top 3 rows\n",
            "\n"
          ]
        }
      ]
    },
    {
      "cell_type": "markdown",
      "metadata": {
        "id": "v1TiFp2qiFdz"
      },
      "source": [
        "### Расчёт Mean Absolute Error (средний модуль отклонения)"
      ]
    },
    {
      "cell_type": "code",
      "metadata": {
        "id": "2kl7LCK4fryy"
      },
      "source": [
        "pipeline = Pipeline(stages=[data_v, lr])\n",
        "model = pipeline.fit(train)"
      ],
      "execution_count": 66,
      "outputs": []
    },
    {
      "cell_type": "code",
      "metadata": {
        "id": "gZLWOladfr1w"
      },
      "source": [
        "prediction_train = model.transform(train)\n",
        "prediction_test = model.transform(test)"
      ],
      "execution_count": 67,
      "outputs": []
    },
    {
      "cell_type": "code",
      "metadata": {
        "colab": {
          "base_uri": "https://localhost:8080/"
        },
        "id": "oqrk5X-Jfr5I",
        "outputId": "1505c63e-70de-453d-bbb2-785bc272fa33"
      },
      "source": [
        "pr_train = prediction_train.toPandas()\n",
        "pr_test = prediction_test.toPandas()\n",
        "print(f'''\n",
        "    Scores:: \n",
        "        train: {mean_absolute_error(\n",
        "            pr_train['target'], \n",
        "            pr_train['prediction'])},\n",
        "        test: {mean_absolute_error(\n",
        "            pr_test['target'], \n",
        "            pr_test['prediction'])}\n",
        "    ''')"
      ],
      "execution_count": 68,
      "outputs": [
        {
          "output_type": "stream",
          "name": "stdout",
          "text": [
            "\n",
            "    Scores:: \n",
            "        train: 1.8564304322482708,\n",
            "        test: 2.3487799524348976\n",
            "    \n"
          ]
        }
      ]
    },
    {
      "cell_type": "markdown",
      "metadata": {
        "id": "Em-JxjbIiXGH"
      },
      "source": [
        "Итоги:\n",
        "1. Для pandas и sklearn MEA равно:\n",
        "train выборка = 1.91\n",
        "test выборка = 2.45\n",
        "\n",
        "2. Для spark + pipelnies MAE равно\n",
        "train выборка = 1.86\n",
        "test выборка = 2.35\n",
        "\n",
        "Результаты сравнимы"
      ]
    },
    {
      "cell_type": "markdown",
      "metadata": {
        "id": "f6WJCiEti1r8"
      },
      "source": [
        "# END"
      ]
    }
  ]
}