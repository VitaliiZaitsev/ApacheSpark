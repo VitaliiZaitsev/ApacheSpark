{
  "nbformat": 4,
  "nbformat_minor": 0,
  "metadata": {
    "colab": {
      "name": "Spark. Lesson 3. Vitaly Zaitsev.ipynb",
      "provenance": [],
      "collapsed_sections": [],
      "authorship_tag": "ABX9TyOuQvzURiWgi8JeQWRCBShC",
      "include_colab_link": true
    },
    "kernelspec": {
      "name": "python3",
      "display_name": "Python 3"
    },
    "language_info": {
      "name": "python"
    }
  },
  "cells": [
    {
      "cell_type": "markdown",
      "metadata": {
        "id": "view-in-github",
        "colab_type": "text"
      },
      "source": [
        "<a href=\"https://colab.research.google.com/github/VitaliiZaitsev/ApacheSpark/blob/main/Spark_Lesson_3_Vitaly_Zaitsev.ipynb\" target=\"_parent\"><img src=\"https://colab.research.google.com/assets/colab-badge.svg\" alt=\"Open In Colab\"/></a>"
      ]
    },
    {
      "cell_type": "markdown",
      "metadata": {
        "id": "dVGNGR7pN1KC"
      },
      "source": [
        "# Урок 3. Самостоятельная работа\n",
        "На уроке мы попробовали оконные и пользовательские функции. Теперь закрепим полученные знания."
      ]
    },
    {
      "cell_type": "markdown",
      "metadata": {
        "id": "agigNChqOHnK"
      },
      "source": [
        "## Данные: [google drive: raw_sales.csv](https://drive.google.com/file/d/1G2N7Mnt4-Tqz4JdJxutGDMbJiOr32kZp/view?usp=sharing)\n",
        "\n",
        " Каждая строчка это продажа жилья, которая состоит из следующих полей (думаю описание не требуется):\n",
        "*   date of sale\n",
        "*   price\n",
        "*   property type\n",
        "*   number of bedrooms\n",
        "*   4digit postcode"
      ]
    },
    {
      "cell_type": "markdown",
      "metadata": {
        "id": "HymRlrHsmLKS"
      },
      "source": [
        "## Подготовка"
      ]
    },
    {
      "cell_type": "code",
      "metadata": {
        "colab": {
          "base_uri": "https://localhost:8080/"
        },
        "id": "9MM89Ev0mJ-M",
        "outputId": "b942b678-cb58-44b9-9f84-df48870bd9d2"
      },
      "source": [
        "# устанаваливаем pyspark\n",
        "pip install pyspark"
      ],
      "execution_count": null,
      "outputs": [
        {
          "output_type": "stream",
          "name": "stdout",
          "text": [
            "Collecting pyspark\n",
            "  Downloading pyspark-3.2.0.tar.gz (281.3 MB)\n",
            "\u001b[K     |████████████████████████████████| 281.3 MB 33 kB/s \n",
            "\u001b[?25hCollecting py4j==0.10.9.2\n",
            "  Downloading py4j-0.10.9.2-py2.py3-none-any.whl (198 kB)\n",
            "\u001b[K     |████████████████████████████████| 198 kB 48.9 MB/s \n",
            "\u001b[?25hBuilding wheels for collected packages: pyspark\n",
            "  Building wheel for pyspark (setup.py) ... \u001b[?25l\u001b[?25hdone\n",
            "  Created wheel for pyspark: filename=pyspark-3.2.0-py2.py3-none-any.whl size=281805912 sha256=8865a61301dde95a0c800bb6e4d96a27adb4ab969eee313015050d37d6415bef\n",
            "  Stored in directory: /root/.cache/pip/wheels/0b/de/d2/9be5d59d7331c6c2a7c1b6d1a4f463ce107332b1ecd4e80718\n",
            "Successfully built pyspark\n",
            "Installing collected packages: py4j, pyspark\n",
            "Successfully installed py4j-0.10.9.2 pyspark-3.2.0\n"
          ]
        }
      ]
    },
    {
      "cell_type": "code",
      "metadata": {
        "id": "0qpi5407mTdC"
      },
      "source": [
        "# Создаём spark context\n",
        "from pyspark.sql import SparkSession\n",
        "spark = SparkSession.builder\\\n",
        "    .master(\"local[3]\")\\\n",
        "    .appName(\"Lesson_3\")\\\n",
        "    .config(\"spark.executor.instances\",2)\\\n",
        "    .config(\"spark.executor.memory\",'2g')\\\n",
        "    .config(\"spark.executor.cores\",1)\\\n",
        "    .getOrCreate()\n",
        "sc = spark.sparkContext"
      ],
      "execution_count": null,
      "outputs": []
    },
    {
      "cell_type": "code",
      "metadata": {
        "colab": {
          "base_uri": "https://localhost:8080/",
          "height": 195
        },
        "id": "I2NMlFr7mo1g",
        "outputId": "6986218b-ca55-42ee-f5d2-f769e2f0022f"
      },
      "source": [
        "sc"
      ],
      "execution_count": null,
      "outputs": [
        {
          "output_type": "execute_result",
          "data": {
            "text/html": [
              "\n",
              "        <div>\n",
              "            <p><b>SparkContext</b></p>\n",
              "\n",
              "            <p><a href=\"http://cfd6567451bc:4040\">Spark UI</a></p>\n",
              "\n",
              "            <dl>\n",
              "              <dt>Version</dt>\n",
              "                <dd><code>v3.2.0</code></dd>\n",
              "              <dt>Master</dt>\n",
              "                <dd><code>local[3]</code></dd>\n",
              "              <dt>AppName</dt>\n",
              "                <dd><code>Lesson_3</code></dd>\n",
              "            </dl>\n",
              "        </div>\n",
              "        "
            ],
            "text/plain": [
              "<SparkContext master=local[3] appName=Lesson_3>"
            ]
          },
          "metadata": {},
          "execution_count": 3
        }
      ]
    },
    {
      "cell_type": "markdown",
      "metadata": {
        "id": "sy1if5PQnAEH"
      },
      "source": [
        "Загружаем файл с ланными / проверяем что файл загружен\n",
        "![image.png](data:image/png;base64,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)"
      ]
    },
    {
      "cell_type": "markdown",
      "metadata": {
        "id": "xisyFowtQgx-"
      },
      "source": [
        "## Задание 1\n",
        "Добавьте к таблице следующие поля:\n",
        "*  Средняя стомость 10 проданных домов до текущего в том же районе (4digit postcode) (1 балл)\n",
        "*  Средняя стомость 10 проданных домов после текущего в том же районе (4digit postcode) (1 балл)\n",
        "*  Стоимость последнего проданного дома до текущего (1 балл)\n"
      ]
    },
    {
      "cell_type": "code",
      "metadata": {
        "id": "PRpH_3oxnNpj"
      },
      "source": [
        "# Инициализируем источник данных\n",
        "raw_sales = spark.read.csv('raw_sales.csv', header = True, inferSchema = True)"
      ],
      "execution_count": null,
      "outputs": []
    },
    {
      "cell_type": "code",
      "metadata": {
        "colab": {
          "base_uri": "https://localhost:8080/"
        },
        "id": "cTHPWvpTnkbQ",
        "outputId": "cf6f81d1-a3cd-4e1f-92b7-94ed9da12e6e"
      },
      "source": [
        "# Количество записей\n",
        "raw_sales.count()"
      ],
      "execution_count": null,
      "outputs": [
        {
          "output_type": "execute_result",
          "data": {
            "text/plain": [
              "29580"
            ]
          },
          "metadata": {},
          "execution_count": 7
        }
      ]
    },
    {
      "cell_type": "code",
      "metadata": {
        "colab": {
          "base_uri": "https://localhost:8080/"
        },
        "id": "uXItEEwMnytc",
        "outputId": "42d08099-ceef-4dcd-ac4c-bf97eced3099"
      },
      "source": [
        "# Структура и первые 5 записей\n",
        "raw_sales.show(5)"
      ],
      "execution_count": null,
      "outputs": [
        {
          "output_type": "stream",
          "name": "stdout",
          "text": [
            "+-------------------+--------+------+------------+--------+\n",
            "|           datesold|postcode| price|propertyType|bedrooms|\n",
            "+-------------------+--------+------+------------+--------+\n",
            "|2007-02-07 00:00:00|    2607|525000|       house|       4|\n",
            "|2007-02-27 00:00:00|    2906|290000|       house|       3|\n",
            "|2007-03-07 00:00:00|    2905|328000|       house|       3|\n",
            "|2007-03-09 00:00:00|    2905|380000|       house|       4|\n",
            "|2007-03-21 00:00:00|    2906|310000|       house|       3|\n",
            "+-------------------+--------+------+------------+--------+\n",
            "only showing top 5 rows\n",
            "\n"
          ]
        }
      ]
    },
    {
      "cell_type": "code",
      "metadata": {
        "id": "ossSnl_zoKFk"
      },
      "source": [
        "from pyspark.sql import functions as F\n",
        "from pyspark.sql import Window\n",
        "\n",
        "# Держим задание перед глазами:\n",
        "# Средняя стомость 10 проданных домов до текущего в том же районе (4digit postcode)\n",
        "# Средняя стомость 10 проданных домов после текущего в том же районе (4digit postcode)\n",
        "# Стоимость последнего проданного дома до текущего\n",
        "\n",
        "\n",
        "# https://spark.apache.org/docs/latest/api/python/reference/pyspark.sql.html\n",
        "# Window.rowsBetween(start, end)\n",
        "# Creates a WindowSpec with the frame boundaries defined, from start (inclusive) to end (inclusive).\n",
        "\n",
        "window_price_before_current = Window.partitionBy('postcode').orderBy('datesold').rowsBetween(Window.currentRow-10, Window.currentRow)\n",
        "window_price_after_current = Window.partitionBy('postcode').orderBy('datesold').rowsBetween(Window.currentRow + 1, Window.currentRow + 1 + 10)\n",
        "window_lastprice_before_current = Window.orderBy('datesold').rowsBetween(Window.currentRow - 1, Window.currentRow - 1)"
      ],
      "execution_count": null,
      "outputs": []
    },
    {
      "cell_type": "code",
      "metadata": {
        "id": "0fy-IyEaqNi2"
      },
      "source": [
        "# \"Эти 3 поля требуется добавить к таблице\"\n",
        "\n",
        "# https://spark.apache.org/docs/latest/api/python/reference/pyspark.sql.html\n",
        "# DataFrame.withColumn(colName, col)\n",
        "# Returns a new DataFrame by adding a column or replacing the existing column that has the same name.\n",
        "#\n",
        "# Column.over(window)\n",
        "# Define a windowing column.\n",
        "\n",
        "# пусть будет результирующая таблица, к ней добавляем поля\n",
        "raw_sales_modified = raw_sales.withColumn('avg_price_for_10_deals_before', F.round(F.avg('price').over(window_price_before_current), 2))\n",
        "raw_sales_modified = raw_sales_modified.withColumn('avg_price_for_10_deals_after', F.round(F.avg('price').over(window_price_after_current), 2))\n",
        "raw_sales_modified = raw_sales_modified.withColumn('last_deal_price', F.sum('price').over(window_lastprice_before_current))\n"
      ],
      "execution_count": null,
      "outputs": []
    },
    {
      "cell_type": "code",
      "metadata": {
        "colab": {
          "base_uri": "https://localhost:8080/"
        },
        "id": "FdraAARxrcGB",
        "outputId": "d647180e-d277-4d76-bb76-d103adbee570"
      },
      "source": [
        "# Проверяем результат\n",
        "raw_sales_modified.show(30)"
      ],
      "execution_count": null,
      "outputs": [
        {
          "output_type": "stream",
          "name": "stdout",
          "text": [
            "+-------------------+--------+-------+------------+--------+-----------------------------+----------------------------+---------------+\n",
            "|           datesold|postcode|  price|propertyType|bedrooms|avg_price_for_10_deals_before|avg_price_for_10_deals_after|last_deal_price|\n",
            "+-------------------+--------+-------+------------+--------+-----------------------------+----------------------------+---------------+\n",
            "|2007-07-08 00:00:00|    2600| 327000|       house|       1|                     327000.0|                   706681.82|         900000|\n",
            "|2007-08-16 00:00:00|    2600| 790000|       house|       4|                     558500.0|                   692590.91|         625000|\n",
            "|2007-12-05 00:00:00|    2600| 825000|       house|       3|                    647333.33|                   703954.55|         620000|\n",
            "|2008-01-21 00:00:00|    2600| 315000|        unit|       1|                     564250.0|                   741681.82|         580000|\n",
            "|2008-04-24 00:00:00|    2600| 292500|       house|       1|                     509900.0|                   792818.18|         445000|\n",
            "|2008-05-30 00:00:00|    2600| 329000|        unit|       2|                     479750.0|                   859045.45|         357000|\n",
            "|2008-06-19 00:00:00|    2600| 765000|       house|       5|                     520500.0|                   816772.73|         362000|\n",
            "|2008-07-29 00:00:00|    2600| 927000|       house|       4|                     571312.5|                   775681.82|         365000|\n",
            "|2008-09-02 00:00:00|    2600|1380000|       house|       5|                    661166.67|                   754772.73|         541000|\n",
            "|2008-09-08 00:00:00|    2600| 740000|       house|       3|                     669050.0|                   739772.73|         360500|\n",
            "|2008-09-17 00:00:00|    2600| 720000|       house|       3|                    673681.82|                   726863.64|         420000|\n",
            "|2008-09-22 00:00:00|    2600| 690000|       house|       4|                    706681.82|                   744136.36|         685000|\n",
            "|2008-11-18 00:00:00|    2600| 635000|       house|       3|                    692590.91|                   723681.82|         540000|\n",
            "|2008-11-18 00:00:00|    2600| 950000|       house|       3|                    703954.55|                   729590.91|         635000|\n",
            "|2008-11-21 00:00:00|    2600| 730000|       house|       3|                    741681.82|                   728863.64|         500000|\n",
            "|2008-12-22 00:00:00|    2600| 855000|       house|       3|                    792818.18|                   679318.18|         630000|\n",
            "|2008-12-24 00:00:00|    2600|1057500|       house|       4|                    859045.45|                   638636.36|         499000|\n",
            "|2009-01-06 00:00:00|    2600| 300000|        unit|       2|                    816772.73|                   669545.45|         450000|\n",
            "|2009-01-12 00:00:00|    2600| 475000|        unit|       2|                    775681.82|                   687727.27|         750000|\n",
            "|2009-01-20 00:00:00|    2600|1150000|       house|       4|                    754772.73|                   674090.91|         500000|\n",
            "|2009-01-22 00:00:00|    2600| 575000|       house|       3|                    739772.73|                   655909.09|         512000|\n",
            "|2009-02-03 00:00:00|    2600| 578000|        unit|       2|                    726863.64|                   707909.09|         365000|\n",
            "|2009-02-13 00:00:00|    2600| 880000|       house|       4|                    744136.36|                    697000.0|         450000|\n",
            "|2009-02-27 00:00:00|    2600| 410000|        unit|       1|                    723681.82|                   760636.36|         476000|\n",
            "|2009-03-17 00:00:00|    2600|1015000|       house|       4|                    729590.91|                    742000.0|         580000|\n",
            "|2009-03-28 00:00:00|    2600| 722000|       house|       4|                    728863.64|                   758181.82|         690000|\n",
            "|2009-03-30 00:00:00|    2600| 310000|        unit|       1|                    679318.18|                   803818.18|         568500|\n",
            "|2009-03-31 00:00:00|    2600| 610000|       house|       3|                    638636.36|                   835636.36|         580000|\n",
            "|2009-04-16 00:00:00|    2600| 640000|        unit|       2|                    669545.45|                   844272.73|         372000|\n",
            "|2009-05-08 00:00:00|    2600| 675000|       house|       3|                    687727.27|                    854000.0|         615000|\n",
            "+-------------------+--------+-------+------------+--------+-----------------------------+----------------------------+---------------+\n",
            "only showing top 30 rows\n",
            "\n"
          ]
        }
      ]
    },
    {
      "cell_type": "markdown",
      "metadata": {
        "id": "SoKJ_YOBUQGL"
      },
      "source": [
        "## Задание 2\n",
        "Найдите среднюю цену жилья для каждого года и приджойните эти данные к таблице из задания 1.\n",
        "\n",
        "\n",
        "*(left join on a.year(date of sale) = b.year, где a - таблица из первого задания, а b таблица после группировки)*"
      ]
    },
    {
      "cell_type": "code",
      "metadata": {
        "id": "8pPSN6IQ0b1w"
      },
      "source": [
        "# Считаем среднегодовые цены\n",
        "average_year_price = raw_sales.select(F.year('datesold').alias('year'), 'price') \\\n",
        "                          .groupBy('year').agg(F.round(F.avg('price'), 2).alias('average_year_price')) \\\n",
        "                          .orderBy('year')"
      ],
      "execution_count": null,
      "outputs": []
    },
    {
      "cell_type": "code",
      "metadata": {
        "colab": {
          "base_uri": "https://localhost:8080/"
        },
        "id": "SWafPLxc1UAK",
        "outputId": "9c5c201e-57b7-4cd8-82f3-127e10a00a0f"
      },
      "source": [
        "average_year_price.show()"
      ],
      "execution_count": null,
      "outputs": [
        {
          "output_type": "stream",
          "name": "stdout",
          "text": [
            "+----+------------------+\n",
            "|year|average_year_price|\n",
            "+----+------------------+\n",
            "|2007|         522377.21|\n",
            "|2008|         493814.16|\n",
            "|2009|         496092.03|\n",
            "|2010|         559564.81|\n",
            "|2011|         566715.11|\n",
            "|2012|         552501.37|\n",
            "|2013|          553416.3|\n",
            "|2014|         592653.76|\n",
            "|2015|         626101.34|\n",
            "|2016|         635185.31|\n",
            "|2017|         671880.55|\n",
            "|2018|         660701.04|\n",
            "|2019|         634184.22|\n",
            "+----+------------------+\n",
            "\n"
          ]
        }
      ]
    },
    {
      "cell_type": "code",
      "metadata": {
        "id": "tYrL_T9ttvLn"
      },
      "source": [
        "# Получаем итоговую таблицу, с добавлением средней цены в год сделки\n",
        "# raw_sales_modified\n",
        "# avg_price_for_10_deals_before, avg_price_for_10_deals_after, last_deal_price\n",
        "# average_year_price\n",
        "raw_sales_average_year_price = raw_sales_modified.join(average_year_price, on=[F.year(raw_sales_modified['datesold']) == average_year_price['year']], how='left') \\\n",
        "                            .select('datesold', 'postcode', 'propertyType', 'bedrooms', \n",
        "                                    'price', 'avg_price_for_10_deals_before', 'avg_price_for_10_deals_after', 'last_deal_price', 'average_year_price',)"
      ],
      "execution_count": null,
      "outputs": []
    },
    {
      "cell_type": "code",
      "metadata": {
        "colab": {
          "base_uri": "https://localhost:8080/"
        },
        "id": "RlnpuwhPtvTv",
        "outputId": "5375099f-9946-4a8c-c0df-486a733e3fe5"
      },
      "source": [
        "raw_sales_average_year_price.show()"
      ],
      "execution_count": null,
      "outputs": [
        {
          "output_type": "stream",
          "name": "stdout",
          "text": [
            "+-------------------+--------+------------+--------+-------+-----------------------------+----------------------------+---------------+------------------+\n",
            "|           datesold|postcode|propertyType|bedrooms|  price|avg_price_for_10_deals_before|avg_price_for_10_deals_after|last_deal_price|average_year_price|\n",
            "+-------------------+--------+------------+--------+-------+-----------------------------+----------------------------+---------------+------------------+\n",
            "|2007-07-08 00:00:00|    2600|       house|       1| 327000|                     327000.0|                   706681.82|         900000|         522377.21|\n",
            "|2007-08-16 00:00:00|    2600|       house|       4| 790000|                     558500.0|                   692590.91|         625000|         522377.21|\n",
            "|2007-12-05 00:00:00|    2600|       house|       3| 825000|                    647333.33|                   703954.55|         620000|         522377.21|\n",
            "|2008-01-21 00:00:00|    2600|        unit|       1| 315000|                     564250.0|                   741681.82|         580000|         493814.16|\n",
            "|2008-04-24 00:00:00|    2600|       house|       1| 292500|                     509900.0|                   792818.18|         445000|         493814.16|\n",
            "|2008-05-30 00:00:00|    2600|        unit|       2| 329000|                     479750.0|                   859045.45|         357000|         493814.16|\n",
            "|2008-06-19 00:00:00|    2600|       house|       5| 765000|                     520500.0|                   816772.73|         362000|         493814.16|\n",
            "|2008-07-29 00:00:00|    2600|       house|       4| 927000|                     571312.5|                   775681.82|         365000|         493814.16|\n",
            "|2008-09-02 00:00:00|    2600|       house|       5|1380000|                    661166.67|                   754772.73|         541000|         493814.16|\n",
            "|2008-09-08 00:00:00|    2600|       house|       3| 740000|                     669050.0|                   739772.73|         360500|         493814.16|\n",
            "|2008-09-17 00:00:00|    2600|       house|       3| 720000|                    673681.82|                   726863.64|         420000|         493814.16|\n",
            "|2008-09-22 00:00:00|    2600|       house|       4| 690000|                    706681.82|                   744136.36|         685000|         493814.16|\n",
            "|2008-11-18 00:00:00|    2600|       house|       3| 635000|                    692590.91|                   723681.82|         540000|         493814.16|\n",
            "|2008-11-18 00:00:00|    2600|       house|       3| 950000|                    703954.55|                   729590.91|         635000|         493814.16|\n",
            "|2008-11-21 00:00:00|    2600|       house|       3| 730000|                    741681.82|                   728863.64|         500000|         493814.16|\n",
            "|2008-12-22 00:00:00|    2600|       house|       3| 855000|                    792818.18|                   679318.18|         630000|         493814.16|\n",
            "|2008-12-24 00:00:00|    2600|       house|       4|1057500|                    859045.45|                   638636.36|         499000|         493814.16|\n",
            "|2009-01-06 00:00:00|    2600|        unit|       2| 300000|                    816772.73|                   669545.45|         450000|         496092.03|\n",
            "|2009-01-12 00:00:00|    2600|        unit|       2| 475000|                    775681.82|                   687727.27|         750000|         496092.03|\n",
            "|2009-01-20 00:00:00|    2600|       house|       4|1150000|                    754772.73|                   674090.91|         500000|         496092.03|\n",
            "+-------------------+--------+------------+--------+-------+-----------------------------+----------------------------+---------------+------------------+\n",
            "only showing top 20 rows\n",
            "\n"
          ]
        }
      ]
    },
    {
      "cell_type": "markdown",
      "metadata": {
        "id": "Qvh2x6_8YU3F"
      },
      "source": [
        "## Задание 3\n",
        "В итоге у вас таблица с колонками (или нечто похожее):\n",
        "*   price\n",
        "*   Среднегодовая цена\n",
        "*  Средняя стомость 10 проданных домов до текущего в том же районе (4digit postcode) (1 балл)\n",
        "*  Средняя стомость 10 проданных домов после текущего в том же районе (4digit postcode) (1 балл)\n",
        "*  Стоимость последнего проданного дома до текущего ((1 балл)\n",
        "*  и др.\n",
        "\n",
        "Посчитайте кол-во уникальных значений в каждой строчке (unique(row)). (2 балла)"
      ]
    },
    {
      "cell_type": "code",
      "metadata": {
        "colab": {
          "base_uri": "https://localhost:8080/"
        },
        "id": "aaglAnbl3loO",
        "outputId": "ca079031-c8fc-49bc-dc96-2f15908647e1"
      },
      "source": [
        "raw_sales_average_year_price.show(5)"
      ],
      "execution_count": null,
      "outputs": [
        {
          "output_type": "stream",
          "name": "stdout",
          "text": [
            "+-------------------+--------+------------+--------+------+-----------------------------+----------------------------+---------------+------------------+\n",
            "|           datesold|postcode|propertyType|bedrooms| price|avg_price_for_10_deals_before|avg_price_for_10_deals_after|last_deal_price|average_year_price|\n",
            "+-------------------+--------+------------+--------+------+-----------------------------+----------------------------+---------------+------------------+\n",
            "|2007-07-08 00:00:00|    2600|       house|       1|327000|                     327000.0|                   706681.82|         900000|         522377.21|\n",
            "|2007-08-16 00:00:00|    2600|       house|       4|790000|                     558500.0|                   692590.91|         625000|         522377.21|\n",
            "|2007-12-05 00:00:00|    2600|       house|       3|825000|                    647333.33|                   703954.55|         620000|         522377.21|\n",
            "|2008-01-21 00:00:00|    2600|        unit|       1|315000|                     564250.0|                   741681.82|         580000|         493814.16|\n",
            "|2008-04-24 00:00:00|    2600|       house|       1|292500|                     509900.0|                   792818.18|         445000|         493814.16|\n",
            "+-------------------+--------+------------+--------+------+-----------------------------+----------------------------+---------------+------------------+\n",
            "only showing top 5 rows\n",
            "\n"
          ]
        }
      ]
    },
    {
      "cell_type": "code",
      "metadata": {
        "id": "FhbBc1si8quz"
      },
      "source": [
        "# Чудо функция, что считает количество уникальных значений на вход\n",
        "@F.udf('string')\n",
        "def unique_values_number(value):\n",
        "    value = list(map(str, value))\n",
        "    return len(set(value))"
      ],
      "execution_count": null,
      "outputs": []
    },
    {
      "cell_type": "code",
      "metadata": {
        "colab": {
          "base_uri": "https://localhost:8080/"
        },
        "id": "X3RnMO1F9MZc",
        "outputId": "f0c7b260-307d-4f3f-e0b0-76892bf80449"
      },
      "source": [
        "# Добавляем столбец-количество уникальных значениях в каждой строчке\n",
        "raw_sales_average_year_price.select('*', unique_values_number(F.array(raw_sales_average_year_price.columns)).alias('unique_values_number')).show()"
      ],
      "execution_count": null,
      "outputs": [
        {
          "output_type": "stream",
          "name": "stdout",
          "text": [
            "+-------------------+--------+------------+--------+-------+-----------------------------+----------------------------+---------------+------------------+--------------------+\n",
            "|           datesold|postcode|propertyType|bedrooms|  price|avg_price_for_10_deals_before|avg_price_for_10_deals_after|last_deal_price|average_year_price|unique_values_number|\n",
            "+-------------------+--------+------------+--------+-------+-----------------------------+----------------------------+---------------+------------------+--------------------+\n",
            "|2007-07-08 00:00:00|    2600|       house|       1| 327000|                     327000.0|                   706681.82|         900000|         522377.21|                   9|\n",
            "|2007-08-16 00:00:00|    2600|       house|       4| 790000|                     558500.0|                   692590.91|         625000|         522377.21|                   9|\n",
            "|2007-12-05 00:00:00|    2600|       house|       3| 825000|                    647333.33|                   703954.55|         620000|         522377.21|                   9|\n",
            "|2008-01-21 00:00:00|    2600|        unit|       1| 315000|                     564250.0|                   741681.82|         580000|         493814.16|                   9|\n",
            "|2008-04-24 00:00:00|    2600|       house|       1| 292500|                     509900.0|                   792818.18|         445000|         493814.16|                   9|\n",
            "|2008-05-30 00:00:00|    2600|        unit|       2| 329000|                     479750.0|                   859045.45|         357000|         493814.16|                   9|\n",
            "|2008-06-19 00:00:00|    2600|       house|       5| 765000|                     520500.0|                   816772.73|         362000|         493814.16|                   9|\n",
            "|2008-07-29 00:00:00|    2600|       house|       4| 927000|                     571312.5|                   775681.82|         365000|         493814.16|                   9|\n",
            "|2008-09-02 00:00:00|    2600|       house|       5|1380000|                    661166.67|                   754772.73|         541000|         493814.16|                   9|\n",
            "|2008-09-08 00:00:00|    2600|       house|       3| 740000|                     669050.0|                   739772.73|         360500|         493814.16|                   9|\n",
            "|2008-09-17 00:00:00|    2600|       house|       3| 720000|                    673681.82|                   726863.64|         420000|         493814.16|                   9|\n",
            "|2008-09-22 00:00:00|    2600|       house|       4| 690000|                    706681.82|                   744136.36|         685000|         493814.16|                   9|\n",
            "|2008-11-18 00:00:00|    2600|       house|       3| 635000|                    692590.91|                   723681.82|         540000|         493814.16|                   9|\n",
            "|2008-11-18 00:00:00|    2600|       house|       3| 950000|                    703954.55|                   729590.91|         635000|         493814.16|                   9|\n",
            "|2008-11-21 00:00:00|    2600|       house|       3| 730000|                    741681.82|                   728863.64|         500000|         493814.16|                   9|\n",
            "|2008-12-22 00:00:00|    2600|       house|       3| 855000|                    792818.18|                   679318.18|         630000|         493814.16|                   9|\n",
            "|2008-12-24 00:00:00|    2600|       house|       4|1057500|                    859045.45|                   638636.36|         499000|         493814.16|                   9|\n",
            "|2009-01-06 00:00:00|    2600|        unit|       2| 300000|                    816772.73|                   669545.45|         450000|         496092.03|                   9|\n",
            "|2009-01-12 00:00:00|    2600|        unit|       2| 475000|                    775681.82|                   687727.27|         750000|         496092.03|                   9|\n",
            "|2009-01-20 00:00:00|    2600|       house|       4|1150000|                    754772.73|                   674090.91|         500000|         496092.03|                   9|\n",
            "+-------------------+--------+------------+--------+-------+-----------------------------+----------------------------+---------------+------------------+--------------------+\n",
            "only showing top 20 rows\n",
            "\n"
          ]
        }
      ]
    },
    {
      "cell_type": "code",
      "metadata": {
        "colab": {
          "base_uri": "https://localhost:8080/"
        },
        "id": "xz09MhMp5l1F",
        "outputId": "4bb90f01-4c3a-4948-ed47-f663683dc3ea"
      },
      "source": [
        "# P.S.\n",
        "# Сначала я посчитал количество уникальных значений в каждом СТОЛБЦЕ\n",
        "# Оставил этот код, пусть будет\n",
        "#\n",
        "# Используем подсказку https://community.databricks.com/s/question/0D53f00001HKHe4CAH/how-to-get-unique-values-of-a-column-in-pyspark-dataframe\n",
        "# df.select(F.countDistinct(\"colx\")).show()\n",
        "raw_sales_average_year_price.select(F.countDistinct(\"datesold\")).show()"
      ],
      "execution_count": null,
      "outputs": [
        {
          "output_type": "stream",
          "name": "stdout",
          "text": [
            "+------------------------+\n",
            "|count(DISTINCT datesold)|\n",
            "+------------------------+\n",
            "|                    3582|\n",
            "+------------------------+\n",
            "\n"
          ]
        }
      ]
    },
    {
      "cell_type": "code",
      "metadata": {
        "colab": {
          "base_uri": "https://localhost:8080/"
        },
        "id": "o1k8AbcS5-3Q",
        "outputId": "d43ef366-3f94-452f-b59b-49ca98fce532"
      },
      "source": [
        "# или так\n",
        "# datesold postcode propertyType bedrooms price avg_price_for_10_deals_before avg_price_for_10_deals_after last_deal_price average_year_price\n",
        "raw_sales_average_year_price.select(F.countDistinct(\"datesold\"), F.countDistinct(\"postcode\"), F.countDistinct(\"propertyType\"), F.countDistinct(\"bedrooms\"), \\\n",
        "                                    F.countDistinct(\"price\"), F.countDistinct(\"avg_price_for_10_deals_before\"), F.countDistinct(\"avg_price_for_10_deals_after\"), \\\n",
        "                                    F.countDistinct(\"last_deal_price\"), F.countDistinct(\"average_year_price\")).show()"
      ],
      "execution_count": null,
      "outputs": [
        {
          "output_type": "stream",
          "name": "stdout",
          "text": [
            "+------------------------+------------------------+----------------------------+------------------------+---------------------+---------------------------------------------+--------------------------------------------+-------------------------------+----------------------------------+\n",
            "|count(DISTINCT datesold)|count(DISTINCT postcode)|count(DISTINCT propertyType)|count(DISTINCT bedrooms)|count(DISTINCT price)|count(DISTINCT avg_price_for_10_deals_before)|count(DISTINCT avg_price_for_10_deals_after)|count(DISTINCT last_deal_price)|count(DISTINCT average_year_price)|\n",
            "+------------------------+------------------------+----------------------------+------------------------+---------------------+---------------------------------------------+--------------------------------------------+-------------------------------+----------------------------------+\n",
            "|                    3582|                      27|                           2|                       6|                 2554|                                        17166|                                       17142|                           2554|                                13|\n",
            "+------------------------+------------------------+----------------------------+------------------------+---------------------+---------------------------------------------+--------------------------------------------+-------------------------------+----------------------------------+\n",
            "\n"
          ]
        }
      ]
    },
    {
      "cell_type": "markdown",
      "metadata": {
        "id": "M5KjKBXi7z7v"
      },
      "source": [
        "# END"
      ]
    }
  ]
}